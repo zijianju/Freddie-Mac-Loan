{
 "cells": [
  {
   "cell_type": "markdown",
   "id": "f445381d-a369-44a4-b287-199491f23043",
   "metadata": {},
   "source": [
    "# Determinants of Mortgage Interest Rates: An Econometric Analysis Using Freddie Mac Loan Data"
   ]
  },
  {
   "cell_type": "markdown",
   "id": "14a44f1e-b56f-445e-ade1-a97be51a9bda",
   "metadata": {},
   "source": [
    "#### Introduction\n",
    "\n",
    "The objective of this project is to examine the factors that influence mortgage interest rates across borrowers in the United States. Using econometric methods, we aim to identify how borrower characteristics and loan attributes contribute to variations in interest rates, with particular attention to financial risk indicators such as debt levels, collateral value, and loan size. The dataset used in this analysis originates from Freddie Mac, a government-sponsored enterprise that plays a central role in the U.S. housing finance system. The data includes detailed loan-level information from mortgage originations in 2011, providing a rich cross-section of borrower and loan characteristics.\n",
    "\n",
    "Key variables used in this project include:\n",
    "\n",
    "DTI (Debt-to-Income Ratio): This represents the ratio of a borrower’s total monthly debt payments to their gross monthly income. A higher DTI indicates greater financial strain and potentially higher risk for lenders.\n",
    "    \n",
    "UPB (Unpaid Principal Balance): This is the remaining amount of principal that the borrower still owes on the loan, typically measured in thousands of dollars. It reflects the size of the loan and may influence pricing through credit risk exposure.\n",
    "\n",
    "LTV (Loan-to-Value Ratio): Calculated as the loan amount divided by the appraised value of the property, LTV indicates the level of equity the borrower has in the home. Higher LTV ratios imply greater risk for lenders, as the borrower has less at stake in the event of default.\n",
    "\n",
    "Through regression analysis, including fixed effects and transformations, this study seeks to uncover how these variables and others impact mortgage interest rates and assess their statistical and practical significance.\n"
   ]
  },
  {
   "cell_type": "markdown",
   "id": "1d04af3a-851f-4585-beb2-7da8477e472c",
   "metadata": {},
   "source": [
    "#### Data Filtering "
   ]
  },
  {
   "cell_type": "code",
   "execution_count": 1,
   "id": "81b087c0-bb76-43a8-93d2-0c57f7fd3988",
   "metadata": {},
   "outputs": [],
   "source": [
    "#Importing relavant modules \n",
    "import numpy as np\n",
    "import pandas as pd\n",
    "import matplotlib.pyplot as plt\n",
    "import seaborn as sns\n",
    "from scipy import stats\n",
    "import statsmodels.formula.api as sm\n",
    "import statsmodels.formula.api as smf\n",
    "from statsmodels.formula.api import ols\n",
    "from scipy.stats import chi2\n",
    "from linearmodels.panel import PanelOLS\n",
    "import linearmodels as lm\n"
   ]
  },
  {
   "cell_type": "code",
   "execution_count": 2,
   "id": "8895c9df-2429-4766-a58e-de8bfbdb8bd2",
   "metadata": {},
   "outputs": [],
   "source": [
    "import pandas as pd\n",
    "\n",
    "#Using Relevant Data Categories \n",
    "var_names= [\"Credit_Score\",\"First_Payment_date\",\"First_Time_Homebuyer\", \"Maturity_Date\",\n",
    "\"MSA\",\"Mortgage_Insurance_Percentage\",\"Number_Units\",\"Occupancy_Status\",\"CLTV\",\n",
    "\"DTI\",\"UPB\",\"LTV\",\"Interest_Rate\",\"Channel\",\"Prepayment_Penalty\",\n",
    "\"Amortization_Type\",\"State\",\"Property_Type\",\"Postal_Code\",\"Sequence_Number\",\n",
    "\"Purpose\",\"Loan_Term\",\"Number_Borrowers\",\"Seller_Name\",\"Servicer_Name\",\n",
    "\"Super_Conforming\",\"Pre-HARP_Loan\",\"Program_Indicator\",\"HARP_Indicator\",\n",
    "\"Valuation_Method\",\"Interest_Only\", \"Insurance_cancellation\"]\n",
    "\n",
    "na = {\"DTI\":[999], \"LTV\":[999], \"Credit_Score\":[9999]}\n",
    "data1 = pd.read_csv(\"sample_orig_2011.txt\", sep=\"|\", names=var_names, na_values=na)\n",
    "\n",
    "#UPB is denoted in thousands\n",
    "data1[\"UPB_Thousands\"] = data1[\"UPB\"] / 1000"
   ]
  },
  {
   "cell_type": "code",
   "execution_count": 3,
   "id": "effe32b3-c710-48b7-ae53-ad67a945f1ec",
   "metadata": {},
   "outputs": [
    {
     "name": "stdout",
     "output_type": "stream",
     "text": [
      "   Credit_Score  First_Payment_date First_Time_Homebuyer  Maturity_Date  \\\n",
      "0         770.0              201103                    N         202602   \n",
      "1         684.0              201103                    N         204102   \n",
      "2         777.0              201103                    N         204102   \n",
      "3         798.0              201103                    N         204102   \n",
      "4         809.0              201103                    N         204102   \n",
      "\n",
      "       MSA  Mortgage_Insurance_Percentage  Number_Units Occupancy_Status  \\\n",
      "0      NaN                              0             1                P   \n",
      "1  19380.0                              0             1                P   \n",
      "2  26180.0                              0             2                I   \n",
      "3  37860.0                              0             1                P   \n",
      "4  16974.0                              0             3                P   \n",
      "\n",
      "   CLTV   DTI  ...    Seller_Name    Servicer_Name  Super_Conforming  \\\n",
      "0    75  37.0  ...  Other sellers  Other servicers               NaN   \n",
      "1    41  43.0  ...  Other sellers   U.S. BANK N.A.               NaN   \n",
      "2    70  45.0  ...  Other sellers  Other servicers               NaN   \n",
      "3    80  42.0  ...  Other sellers  Other servicers               NaN   \n",
      "4    96   NaN  ...  Other sellers  Other servicers               NaN   \n",
      "\n",
      "  Pre-HARP_Loan Program_Indicator HARP_Indicator Valuation_Method  \\\n",
      "0           NaN                 9            NaN                9   \n",
      "1           NaN                 9            NaN                9   \n",
      "2           NaN                 9            NaN                9   \n",
      "3           NaN                 9            NaN                9   \n",
      "4  F08Q20310838                 9              Y                9   \n",
      "\n",
      "  Interest_Only  Insurance_cancellation UPB_Thousands  \n",
      "0             N                       9         171.0  \n",
      "1             N                       9         100.0  \n",
      "2             N                       9         315.0  \n",
      "3             N                       9         164.0  \n",
      "4             N                       9         273.0  \n",
      "\n",
      "[5 rows x 33 columns]\n"
     ]
    }
   ],
   "source": [
    "print(data1.head())"
   ]
  },
  {
   "cell_type": "markdown",
   "id": "d70b1410-75fd-478e-9a30-123bb328b367",
   "metadata": {},
   "source": [
    "#### 1. Finding Relationships To Interest Rate Through Visualization"
   ]
  },
  {
   "cell_type": "markdown",
   "id": "e4160d2a-25cd-4c6f-ba54-6ed70dbf78bb",
   "metadata": {},
   "source": [
    "We want to see if we can find a clear relationship or correlation between the regressors and regressed -- Interest Rates "
   ]
  },
  {
   "cell_type": "code",
   "execution_count": 4,
   "id": "2e67e5e0-de92-4f71-b39c-8d4649d6eade",
   "metadata": {},
   "outputs": [
    {
     "data": {
      "image/png": "[encoded data removed]",
      "text/plain": [
       "<Figure size 800x500 with 1 Axes>"
      ]
     },
     "metadata": {},
     "output_type": "display_data"
    }
   ],
   "source": [
    "df_copy = data1.copy()\n",
    "\n",
    "#plot\n",
    "plt.figure(figsize=(8, 5))\n",
    "sns.histplot(data=data1, x='Interest_Rate', bins=30, color='skyblue', kde=True)\n",
    "plt.title('Distribution of Interest Rates')\n",
    "plt.xlabel('Interest Rate (%)')\n",
    "plt.ylabel('Frequency')\n",
    "plt.tight_layout()\n",
    "plt.show()"
   ]
  },
  {
   "cell_type": "markdown",
   "id": "f86632cf-3b29-4499-9260-c589c57a5d02",
   "metadata": {},
   "source": [
    "The histogram of interest rates reveals that most mortgage loans in the dataset have interest rates concentrated between 4.0% and 5.0%, with a clear peak just below 4.5%, indicating this was the most common rate offered at the time. The distribution is slightly right-skewed, suggesting that while most borrowers received relatively moderate rates, there is a small portion who paid significantly higher rates—possibly due to risk factors or loan product types. The shape of the distribution, with multiple smaller peaks, hints at the presence of distinct borrower segments or mortgage products, such as fixed versus adjustable-rate loans. Interest rates range approximately from 2.75% to 6.75%, reflecting variability in loan terms, borrower credit quality, and market conditions. Overall, this distribution suggests a dominant cluster of prime borrowers receiving favorable rates, with a smaller spread of outliers potentially driven by higher-risk lending or specialized loan programs. We will see if the selected variables have relationships with regressor variables. "
   ]
  },
  {
   "cell_type": "code",
   "execution_count": 5,
   "id": "eaa8f790-ce99-424d-8aeb-1dcf1e3a53df",
   "metadata": {},
   "outputs": [
    {
     "name": "stderr",
     "output_type": "stream",
     "text": [
      "/var/folders/2h/bd9j7tkj5wz80c9dzwy4ltx40000gn/T/ipykernel_18438/2673413429.py:14: FutureWarning: The default of observed=False is deprecated and will be changed to True in a future version of pandas. Pass observed=False to retain current behavior or observed=True to adopt the future default and silence this warning.\n",
      "  summary = df_copy.groupby('Loan_Term_Binned').agg(\n"
     ]
    },
    {
     "data": {
      "image/png": "[encoded data removed]",
      "text/plain": [
       "<Figure size 800x500 with 1 Axes>"
      ]
     },
     "metadata": {},
     "output_type": "display_data"
    }
   ],
   "source": [
    "# Convert loan term from months to years\n",
    "\n",
    "df_copy = df_copy.copy()\n",
    "df_copy['Loan_Term_Years'] = df_copy['Loan_Term'] / 12\n",
    "\n",
    "# Define bins\n",
    "bins = [0, 10, 15, 20, 25, 30]\n",
    "labels = ['≤10yr', '11–15yr', '16–20yr', '21–25yr', '26–30yr']\n",
    "\n",
    "# Apply binning to the new column\n",
    "df_copy['Loan_Term_Binned'] = pd.cut(df_copy['Loan_Term_Years'], bins=bins, labels=labels, right=True, include_lowest=True)\n",
    "\n",
    "# Caculate average interest rate\n",
    "summary = df_copy.groupby('Loan_Term_Binned').agg(\n",
    "    avg_interest_rate=('Interest_Rate', 'mean')\n",
    ").reset_index()\n",
    "\n",
    "# Present the graph\n",
    "plt.figure(figsize=(8, 5))\n",
    "sns.barplot(x='Loan_Term_Binned', y='avg_interest_rate', data=summary, color='orange')\n",
    "plt.title('Average Interest Rate by Loan Term Group (Years)')\n",
    "plt.xlabel('Loan Term Group')\n",
    "plt.ylabel('Average Interest Rate (%)')\n",
    "plt.tight_layout()\n",
    "plt.show()\n"
   ]
  },
  {
   "cell_type": "markdown",
   "id": "8af6cc7c-1c54-4dbe-b9e1-0f7957b9151d",
   "metadata": {},
   "source": [
    "The bar plot shows a clear, upward trend in average interest rates as loan terms increase. Borrowers with shorter-term loans (≤10 years and 11–15 years) have lower average interest rates, while those with longer-term loans (21–30 years) face progressively higher rates. This pattern is expected because longer loan terms carry greater risk for lenders—due to more uncertainty over time, higher exposure to interest rate changes, and a longer period to recover the loan. As a result, lenders typically charge higher interest rates to compensate for this increased risk and time horizon."
   ]
  },
  {
   "cell_type": "code",
   "execution_count": 6,
   "id": "ffe81ec2-1335-4e32-bc2d-81f03922f078",
   "metadata": {},
   "outputs": [
    {
     "data": {
      "image/png": "[encoded data removed]",
      "text/plain": [
       "<Figure size 600x400 with 1 Axes>"
      ]
     },
     "metadata": {},
     "output_type": "display_data"
    }
   ],
   "source": [
    "#plot\n",
    "plt.figure(figsize=(6, 4))\n",
    "sns.histplot(data1[\"DTI\"], bins=30, kde=True, color='blue')\n",
    "plt.xlabel(\"Debt-to-Income Ratio (DTI)\")\n",
    "plt.ylabel(\"Frequency\")\n",
    "plt.title(\"Histogram of DTI\")\n",
    "plt.tight_layout()\n",
    "plt.show()"
   ]
  },
  {
   "cell_type": "markdown",
   "id": "e111fc09-9b2a-45c5-b289-448f025ea80d",
   "metadata": {},
   "source": [
    "The graphs demonstrate the DTI distribution of the data set. DTI is the dedit to income ratio.$ DTI is a financial metric used to evaluate a borrower's ability to pay back monthly debt payments relative to their income. The distribution is roughly normal, slightly left-skewed. While most values fall between 10% and 50%, there are clear spikes at ~25% and ~45%. The spike of around 25% reflects that many banks prefer borrowers with low risk. In addition, the spike of around 45% is often the maximum limit that banks allow. There are very few people whose DTI is higher than 50% which indicates that banks usually do not approve loans for people who spend more than half of their income on debt. In conclusion, the graph shows that most borrowers are financially stable and the two spikes reflect the loan approval rules and safety limits\n",
    "\n",
    "A higher DTI ratio typically indicates greater financial strain on the borrower (i.e., more of their income is used to pay off debt). Lenders generally view this as higher risk, which may result in higher interest rates. The spike at DTI 45 may correspond to tighter lending standards, which could result in either very high or very low interest rates, depending on how risk is priced for these borrowers. The shape does suggest a clear relationship to interest rates."
   ]
  },
  {
   "cell_type": "code",
   "execution_count": 7,
   "id": "fa895012-c0b8-4878-a37c-0fd4346b2c51",
   "metadata": {},
   "outputs": [
    {
     "data": {
      "image/png": "[encoded data removed]",
      "text/plain": [
       "<Figure size 600x400 with 1 Axes>"
      ]
     },
     "metadata": {},
     "output_type": "display_data"
    }
   ],
   "source": [
    "#plot\n",
    "plt.figure(figsize=(6, 4))\n",
    "sns.histplot(data1[\"UPB_Thousands\"], bins=50, kde=True, color='green')\n",
    "plt.xlabel(\"Unpaid Principal Balance (in $1000)\")\n",
    "plt.ylabel(\"Frequency\")\n",
    "plt.title(\"Histogram of UPB\")\n",
    "plt.tight_layout()\n",
    "plt.show()"
   ]
  },
  {
   "cell_type": "markdown",
   "id": "f87015af-f52e-4b6c-8369-5374e992592c",
   "metadata": {},
   "source": [
    "The graph demonstrates the distribution of UPB in thousands. UPB refers to the amount of the mortgage loan that the borrower still owes to the bank without considering the interest. The shape of the distribution is right-skewed, which indicates that most borrowers owe small loan amounts. A sharp strike is shown around $400k might be due to the reason that many banks or programs have maximum loan limits around this number. In addition, the long tail suggests that there are a small number of borrowers who owe large amounts. \n",
    "\n",
    "A borrower with a high UPB doesn’t necessarily pay a higher interest rate based on these plots alone. Interest rates are typically more sensitive to borrower creditworthiness (credit score, DTI, loan-to-value) and loan type than to the absolute size of the loan. There is no clear relationship visible between UPB and interest rates from just the histograms. While extreme UPBs may affect pricing slightly, most of the variation in interest rates is likely explained by borrower characteristics and loan terms, not just the principal balance alone.\n"
   ]
  },
  {
   "cell_type": "code",
   "execution_count": 8,
   "id": "ab18046b-d65e-424a-a43b-9cb486924c80",
   "metadata": {},
   "outputs": [
    {
     "data": {
      "image/png": "[encoded data removed]",
      "text/plain": [
       "<Figure size 600x400 with 1 Axes>"
      ]
     },
     "metadata": {},
     "output_type": "display_data"
    }
   ],
   "source": [
    "#plot\n",
    "plt.figure(figsize=(6, 4))\n",
    "sns.histplot(data1[\"LTV\"], bins=50, kde=True, color='red')\n",
    "plt.xlabel(\"Loan-to-Value Ratio (LTV)\")\n",
    "plt.ylabel(\"Frequency\")\n",
    "plt.title(\"Histogram of LTV\")\n",
    "plt.tight_layout()\n",
    "plt.show()"
   ]
  },
  {
   "cell_type": "markdown",
   "id": "b8529558-39f2-4c36-9b24-9ca08e3b129b",
   "metadata": {},
   "source": [
    "The graph of Loan-to-Value Ratio (LTV) reveals a right-skewed distribution, with a sharp spike at 80%, indicating that many borrowers make a 20% down payment. This is a common threshold used to avoid mortgage insurance. Most loans fall between 60% and 85% LTV, which suggests that borrowers typically contribute some equity. A smaller number of loans have LTVs above 90%, including some at 100%, which reflects riskier lending scenarios where borrowers put little or no money down. Overall, the data shows that 80% LTV is a key industry standard, balancing borrower affordability with lender risk protection.\n",
    "\n",
    "The histogram of LTV strongly suggests a relationship with interest rates, especially due to the risk-based pricing model lenders use. While we can’t visually map this directly to the interest rate distribution from the previous histogram, the economic logic and lending standards imply that higher LTVs likely correlate with higher rates."
   ]
  },
  {
   "cell_type": "markdown",
   "id": "376a94f1-b3bd-493d-acf8-9cc3ef2551c7",
   "metadata": {},
   "source": [
    "In conlusion, based on the visual analysis of histograms and economic reasoning, several variables in the dataset appear to show potential correlation with interest rates:\n",
    "\t1.\tLoan Term: There is a clear, positive relationship between loan term length and average interest rate. Longer-term loans are consistently associated with higher interest rates, reflecting increased lender risk over time.\n",
    "\t2.\tDebt-to-Income Ratio (DTI): While the histogram suggests a wide distribution, borrowers with higher DTI are generally considered riskier, and thus, likely face higher interest rates. However, a more precise relationship would require a scatter plot or regression.\n",
    "\t3.\tLoan-to-Value Ratio (LTV): A strong spike at 80%—a critical underwriting threshold—along with the distribution’s shape, indicates that higher LTV ratios may lead to higher interest rates. This aligns with lending practices where lower equity implies higher default risk.\n",
    "\t4.\tUnpaid Principal Balance (UPB): The histogram shows a right-skewed distribution with no strong visual indication of a correlation to interest rates. UPB alone may not determine rate levels; its effect is likely moderated by loan term and credit quality.\n",
    "\n",
    "In summary, Loan Term, DTI, and LTV emerge as the most plausible predictors of interest rates, both visually and based on financial theory. These variables should be prioritized in further analysis through regression."
   ]
  },
  {
   "cell_type": "markdown",
   "id": "3379fe41-251a-463a-817f-bad9d48f251e",
   "metadata": {},
   "source": [
    "### 2. Finding Possible Issues Of Multicorlinearty "
   ]
  },
  {
   "cell_type": "markdown",
   "id": "d9cc43d7-2155-43f9-9dd3-eda26449fa76",
   "metadata": {},
   "source": [
    "Multicollinearity occurs when two or more independent variables in a regression model are highly correlated, meaning they contain overlapping information about the variation in the dependent variable. This can be problematic because it undermines the statistical significance of individual predictors: standard errors inflate, making it difficult to determine which variables truly have meaningful effects. We want to find this issue before we run a regression. "
   ]
  },
  {
   "cell_type": "code",
   "execution_count": 9,
   "id": "2a396dbc-a8c5-4955-961c-523a23ae55f4",
   "metadata": {},
   "outputs": [
    {
     "data": {
      "text/html": [
       "<style type=\"text/css\">\n",
       "#T_f99b9_row0_col0, #T_f99b9_row1_col1, #T_f99b9_row2_col2, #T_f99b9_row3_col3 {\n",
       "  background-color: #ff00ff;\n",
       "  color: #f1f1f1;\n",
       "}\n",
       "#T_f99b9_row0_col1, #T_f99b9_row0_col2, #T_f99b9_row0_col3, #T_f99b9_row1_col0 {\n",
       "  background-color: #00ffff;\n",
       "  color: #000000;\n",
       "}\n",
       "#T_f99b9_row1_col2 {\n",
       "  background-color: #13ecff;\n",
       "  color: #000000;\n",
       "}\n",
       "#T_f99b9_row1_col3 {\n",
       "  background-color: #32cdff;\n",
       "  color: #000000;\n",
       "}\n",
       "#T_f99b9_row2_col0 {\n",
       "  background-color: #2ed1ff;\n",
       "  color: #000000;\n",
       "}\n",
       "#T_f99b9_row2_col1 {\n",
       "  background-color: #3ec1ff;\n",
       "  color: #000000;\n",
       "}\n",
       "#T_f99b9_row2_col3 {\n",
       "  background-color: #2bd4ff;\n",
       "  color: #000000;\n",
       "}\n",
       "#T_f99b9_row3_col0 {\n",
       "  background-color: #0df2ff;\n",
       "  color: #000000;\n",
       "}\n",
       "#T_f99b9_row3_col1 {\n",
       "  background-color: #3cc3ff;\n",
       "  color: #000000;\n",
       "}\n",
       "#T_f99b9_row3_col2 {\n",
       "  background-color: #09f6ff;\n",
       "  color: #000000;\n",
       "}\n",
       "</style>\n",
       "<table id=\"T_f99b9\">\n",
       "  <thead>\n",
       "    <tr>\n",
       "      <th class=\"blank level0\" >&nbsp;</th>\n",
       "      <th id=\"T_f99b9_level0_col0\" class=\"col_heading level0 col0\" >Credit_Score</th>\n",
       "      <th id=\"T_f99b9_level0_col1\" class=\"col_heading level0 col1\" >DTI</th>\n",
       "      <th id=\"T_f99b9_level0_col2\" class=\"col_heading level0 col2\" >UPB_Thousands</th>\n",
       "      <th id=\"T_f99b9_level0_col3\" class=\"col_heading level0 col3\" >LTV</th>\n",
       "    </tr>\n",
       "  </thead>\n",
       "  <tbody>\n",
       "    <tr>\n",
       "      <th id=\"T_f99b9_level0_row0\" class=\"row_heading level0 row0\" >Credit_Score</th>\n",
       "      <td id=\"T_f99b9_row0_col0\" class=\"data row0 col0\" >1.000000</td>\n",
       "      <td id=\"T_f99b9_row0_col1\" class=\"data row0 col1\" >-0.180023</td>\n",
       "      <td id=\"T_f99b9_row0_col2\" class=\"data row0 col2\" >0.033472</td>\n",
       "      <td id=\"T_f99b9_row0_col3\" class=\"data row0 col3\" >-0.119130</td>\n",
       "    </tr>\n",
       "    <tr>\n",
       "      <th id=\"T_f99b9_level0_row1\" class=\"row_heading level0 row1\" >DTI</th>\n",
       "      <td id=\"T_f99b9_row1_col0\" class=\"data row1 col0\" >-0.180023</td>\n",
       "      <td id=\"T_f99b9_row1_col1\" class=\"data row1 col1\" >1.000000</td>\n",
       "      <td id=\"T_f99b9_row1_col2\" class=\"data row1 col2\" >0.106848</td>\n",
       "      <td id=\"T_f99b9_row1_col3\" class=\"data row1 col3\" >0.100170</td>\n",
       "    </tr>\n",
       "    <tr>\n",
       "      <th id=\"T_f99b9_level0_row2\" class=\"row_heading level0 row2\" >UPB_Thousands</th>\n",
       "      <td id=\"T_f99b9_row2_col0\" class=\"data row2 col0\" >0.033472</td>\n",
       "      <td id=\"T_f99b9_row2_col1\" class=\"data row2 col1\" >0.106848</td>\n",
       "      <td id=\"T_f99b9_row2_col2\" class=\"data row2 col2\" >1.000000</td>\n",
       "      <td id=\"T_f99b9_row2_col3\" class=\"data row2 col3\" >0.069976</td>\n",
       "    </tr>\n",
       "    <tr>\n",
       "      <th id=\"T_f99b9_level0_row3\" class=\"row_heading level0 row3\" >LTV</th>\n",
       "      <td id=\"T_f99b9_row3_col0\" class=\"data row3 col0\" >-0.119130</td>\n",
       "      <td id=\"T_f99b9_row3_col1\" class=\"data row3 col1\" >0.100170</td>\n",
       "      <td id=\"T_f99b9_row3_col2\" class=\"data row3 col2\" >0.069976</td>\n",
       "      <td id=\"T_f99b9_row3_col3\" class=\"data row3 col3\" >1.000000</td>\n",
       "    </tr>\n",
       "  </tbody>\n",
       "</table>\n"
      ],
      "text/plain": [
       "<pandas.io.formats.style.Styler at 0x128628980>"
      ]
     },
     "execution_count": 9,
     "metadata": {},
     "output_type": "execute_result"
    }
   ],
   "source": [
    "#correlation matrix \n",
    "correlation_matrix = data1[[\"Credit_Score\", \"DTI\", \"UPB_Thousands\", \"LTV\"]].corr()\n",
    "\n",
    "#show correlation matrix\n",
    "correlation_matrix.style.background_gradient(cmap = \"cool\")"
   ]
  },
  {
   "cell_type": "markdown",
   "id": "a3f4b4e5-90d7-4ce6-aed7-a112ec1c78b4",
   "metadata": {},
   "source": [
    "Credit Score vs. DTI (-0.18): weak negative correlation; higher credit scores are slightly associated with lower DTI.\n",
    "\n",
    "Credit Score vs. UPB (0.03): weak positive correlation; almost no relationship. \n",
    "\n",
    "Credit Score vs. LTV (-0.12): weak negative correlation; borrowers with highter credit scores tend slightly higher LTV ratios. \n",
    "\n",
    "DTI vs. UPB (0.11): weak postive correlation; large loans are slightly associated with lower DTI ratios. \n",
    "\n",
    "DTI vs. LTV (0.1): weak postive correlation; higher DTI ratios tend to have slightly higher LTV ratios. \n",
    "\n",
    "UPB vs. LTV (0.07): weak postive coorelation; larger loans tend to have slightly higher LTV values. \n",
    "\n",
    "In conclusion the correlation vlaues are all below 0.2, which shows that multicollinearity is not a signficant factor. "
   ]
  },
  {
   "cell_type": "markdown",
   "id": "6c5eae47-1015-4c8b-9194-c6338309a4a2",
   "metadata": {},
   "source": [
    "### 3. Running OLS Regression"
   ]
  },
  {
   "cell_type": "markdown",
   "id": "e74bde2b-d48e-405c-91b9-195a5aa354f0",
   "metadata": {},
   "source": [
    "Ordinary Least Squares (OLS) regression is a fundamental statistical method used to estimate the relationship between one dependent variable and one or more independent (explanatory) variables. The goal of OLS is to find the best-fitting line—or more generally, a hyperplane in multiple dimensions—that minimizes the sum of the squared differences (errors) between the observed values and the values predicted by the model."
   ]
  },
  {
   "cell_type": "code",
   "execution_count": 10,
   "id": "0a8b14a0-7cdc-4646-ac40-48c603804d97",
   "metadata": {},
   "outputs": [
    {
     "data": {
      "text/html": [
       "<table class=\"simpletable\">\n",
       "<caption>OLS Regression Results</caption>\n",
       "<tr>\n",
       "  <th>Dep. Variable:</th>      <td>Interest_Rate</td>  <th>  R-squared:         </th> <td>   0.110</td> \n",
       "</tr>\n",
       "<tr>\n",
       "  <th>Model:</th>                   <td>OLS</td>       <th>  Adj. R-squared:    </th> <td>   0.109</td> \n",
       "</tr>\n",
       "<tr>\n",
       "  <th>Method:</th>             <td>Least Squares</td>  <th>  F-statistic:       </th> <td>   1047.</td> \n",
       "</tr>\n",
       "<tr>\n",
       "  <th>Date:</th>             <td>Wed, 07 May 2025</td> <th>  Prob (F-statistic):</th>  <td>  0.00</td>  \n",
       "</tr>\n",
       "<tr>\n",
       "  <th>Time:</th>                 <td>18:51:28</td>     <th>  Log-Likelihood:    </th> <td> -27289.</td> \n",
       "</tr>\n",
       "<tr>\n",
       "  <th>No. Observations:</th>      <td> 34577</td>      <th>  AIC:               </th> <td>5.459e+04</td>\n",
       "</tr>\n",
       "<tr>\n",
       "  <th>Df Residuals:</th>          <td> 34572</td>      <th>  BIC:               </th> <td>5.463e+04</td>\n",
       "</tr>\n",
       "<tr>\n",
       "  <th>Df Model:</th>              <td>     4</td>      <th>                     </th>     <td> </td>    \n",
       "</tr>\n",
       "<tr>\n",
       "  <th>Covariance Type:</th>         <td>HC1</td>       <th>                     </th>     <td> </td>    \n",
       "</tr>\n",
       "</table>\n",
       "<table class=\"simpletable\">\n",
       "<tr>\n",
       "        <td></td>           <th>coef</th>     <th>std err</th>      <th>z</th>      <th>P>|z|</th>  <th>[0.025</th>    <th>0.975]</th>  \n",
       "</tr>\n",
       "<tr>\n",
       "  <th>Intercept</th>     <td>    5.1846</td> <td>    0.062</td> <td>   83.482</td> <td> 0.000</td> <td>    5.063</td> <td>    5.306</td>\n",
       "</tr>\n",
       "<tr>\n",
       "  <th>Credit_Score</th>  <td>   -0.0020</td> <td> 7.58e-05</td> <td>  -26.790</td> <td> 0.000</td> <td>   -0.002</td> <td>   -0.002</td>\n",
       "</tr>\n",
       "<tr>\n",
       "  <th>DTI</th>           <td>    0.0075</td> <td>    0.000</td> <td>   25.563</td> <td> 0.000</td> <td>    0.007</td> <td>    0.008</td>\n",
       "</tr>\n",
       "<tr>\n",
       "  <th>UPB_Thousands</th> <td>   -0.0001</td> <td> 2.28e-05</td> <td>   -5.517</td> <td> 0.000</td> <td>   -0.000</td> <td>-8.12e-05</td>\n",
       "</tr>\n",
       "<tr>\n",
       "  <th>LTV</th>           <td>    0.0074</td> <td>    0.000</td> <td>   43.833</td> <td> 0.000</td> <td>    0.007</td> <td>    0.008</td>\n",
       "</tr>\n",
       "</table>\n",
       "<table class=\"simpletable\">\n",
       "<tr>\n",
       "  <th>Omnibus:</th>       <td>1005.615</td> <th>  Durbin-Watson:     </th> <td>   0.708</td> \n",
       "</tr>\n",
       "<tr>\n",
       "  <th>Prob(Omnibus):</th>  <td> 0.000</td>  <th>  Jarque-Bera (JB):  </th> <td> 574.307</td> \n",
       "</tr>\n",
       "<tr>\n",
       "  <th>Skew:</th>           <td>-0.154</td>  <th>  Prob(JB):          </th> <td>1.95e-125</td>\n",
       "</tr>\n",
       "<tr>\n",
       "  <th>Kurtosis:</th>       <td> 2.449</td>  <th>  Cond. No.          </th> <td>1.67e+04</td> \n",
       "</tr>\n",
       "</table><br/><br/>Notes:<br/>[1] Standard Errors are heteroscedasticity robust (HC1)<br/>[2] The condition number is large, 1.67e+04. This might indicate that there are<br/>strong multicollinearity or other numerical problems."
      ],
      "text/latex": [
       "\\begin{center}\n",
       "\\begin{tabular}{lclc}\n",
       "\\toprule\n",
       "\\textbf{Dep. Variable:}    &  Interest\\_Rate  & \\textbf{  R-squared:         } &     0.110   \\\\\n",
       "\\textbf{Model:}            &       OLS        & \\textbf{  Adj. R-squared:    } &     0.109   \\\\\n",
       "\\textbf{Method:}           &  Least Squares   & \\textbf{  F-statistic:       } &     1047.   \\\\\n",
       "\\textbf{Date:}             & Wed, 07 May 2025 & \\textbf{  Prob (F-statistic):} &     0.00    \\\\\n",
       "\\textbf{Time:}             &     18:51:28     & \\textbf{  Log-Likelihood:    } &   -27289.   \\\\\n",
       "\\textbf{No. Observations:} &       34577      & \\textbf{  AIC:               } & 5.459e+04   \\\\\n",
       "\\textbf{Df Residuals:}     &       34572      & \\textbf{  BIC:               } & 5.463e+04   \\\\\n",
       "\\textbf{Df Model:}         &           4      & \\textbf{                     } &             \\\\\n",
       "\\textbf{Covariance Type:}  &       HC1        & \\textbf{                     } &             \\\\\n",
       "\\bottomrule\n",
       "\\end{tabular}\n",
       "\\begin{tabular}{lcccccc}\n",
       "                        & \\textbf{coef} & \\textbf{std err} & \\textbf{z} & \\textbf{P$> |$z$|$} & \\textbf{[0.025} & \\textbf{0.975]}  \\\\\n",
       "\\midrule\n",
       "\\textbf{Intercept}      &       5.1846  &        0.062     &    83.482  &         0.000        &        5.063    &        5.306     \\\\\n",
       "\\textbf{Credit\\_Score}  &      -0.0020  &     7.58e-05     &   -26.790  &         0.000        &       -0.002    &       -0.002     \\\\\n",
       "\\textbf{DTI}            &       0.0075  &        0.000     &    25.563  &         0.000        &        0.007    &        0.008     \\\\\n",
       "\\textbf{UPB\\_Thousands} &      -0.0001  &     2.28e-05     &    -5.517  &         0.000        &       -0.000    &    -8.12e-05     \\\\\n",
       "\\textbf{LTV}            &       0.0074  &        0.000     &    43.833  &         0.000        &        0.007    &        0.008     \\\\\n",
       "\\bottomrule\n",
       "\\end{tabular}\n",
       "\\begin{tabular}{lclc}\n",
       "\\textbf{Omnibus:}       & 1005.615 & \\textbf{  Durbin-Watson:     } &     0.708  \\\\\n",
       "\\textbf{Prob(Omnibus):} &   0.000  & \\textbf{  Jarque-Bera (JB):  } &   574.307  \\\\\n",
       "\\textbf{Skew:}          &  -0.154  & \\textbf{  Prob(JB):          } & 1.95e-125  \\\\\n",
       "\\textbf{Kurtosis:}      &   2.449  & \\textbf{  Cond. No.          } &  1.67e+04  \\\\\n",
       "\\bottomrule\n",
       "\\end{tabular}\n",
       "%\\caption{OLS Regression Results}\n",
       "\\end{center}\n",
       "\n",
       "Notes: \\newline\n",
       " [1] Standard Errors are heteroscedasticity robust (HC1) \\newline\n",
       " [2] The condition number is large, 1.67e+04. This might indicate that there are \\newline\n",
       " strong multicollinearity or other numerical problems."
      ],
      "text/plain": [
       "<class 'statsmodels.iolib.summary.Summary'>\n",
       "\"\"\"\n",
       "                            OLS Regression Results                            \n",
       "==============================================================================\n",
       "Dep. Variable:          Interest_Rate   R-squared:                       0.110\n",
       "Model:                            OLS   Adj. R-squared:                  0.109\n",
       "Method:                 Least Squares   F-statistic:                     1047.\n",
       "Date:                Wed, 07 May 2025   Prob (F-statistic):               0.00\n",
       "Time:                        18:51:28   Log-Likelihood:                -27289.\n",
       "No. Observations:               34577   AIC:                         5.459e+04\n",
       "Df Residuals:                   34572   BIC:                         5.463e+04\n",
       "Df Model:                           4                                         \n",
       "Covariance Type:                  HC1                                         \n",
       "=================================================================================\n",
       "                    coef    std err          z      P>|z|      [0.025      0.975]\n",
       "---------------------------------------------------------------------------------\n",
       "Intercept         5.1846      0.062     83.482      0.000       5.063       5.306\n",
       "Credit_Score     -0.0020   7.58e-05    -26.790      0.000      -0.002      -0.002\n",
       "DTI               0.0075      0.000     25.563      0.000       0.007       0.008\n",
       "UPB_Thousands    -0.0001   2.28e-05     -5.517      0.000      -0.000   -8.12e-05\n",
       "LTV               0.0074      0.000     43.833      0.000       0.007       0.008\n",
       "==============================================================================\n",
       "Omnibus:                     1005.615   Durbin-Watson:                   0.708\n",
       "Prob(Omnibus):                  0.000   Jarque-Bera (JB):              574.307\n",
       "Skew:                          -0.154   Prob(JB):                    1.95e-125\n",
       "Kurtosis:                       2.449   Cond. No.                     1.67e+04\n",
       "==============================================================================\n",
       "\n",
       "Notes:\n",
       "[1] Standard Errors are heteroscedasticity robust (HC1)\n",
       "[2] The condition number is large, 1.67e+04. This might indicate that there are\n",
       "strong multicollinearity or other numerical problems.\n",
       "\"\"\""
      ]
     },
     "execution_count": 10,
     "metadata": {},
     "output_type": "execute_result"
    }
   ],
   "source": [
    "# running ols regression\n",
    "model_1 = sm.ols(\"Interest_Rate ~ Credit_Score + DTI + UPB_Thousands + LTV\", data=data1).fit(cov_type =\"HC1\")\n",
    "model_1.summary()"
   ]
  },
  {
   "cell_type": "markdown",
   "id": "07f56778-b4a8-45b0-ae82-c10203cedcb4",
   "metadata": {},
   "source": [
    "Holding all independant variables zero, the predcited rate is at 5.1846. \n",
    "\n",
    "All predictor varibales have p-values of 0.000 meaning theyare highly statistcally signficant at the 5% level, indicating each variables has a meaningful effect on interest rate. \n",
    "\n",
    "Holding all other variables constant, a 1-point increase in Credit Score would decrease interest rate by 0.002. \n",
    "\n",
    "Holding all other variables constant, a 1 percentage point increase in DTI leads to a 0.0075 increase in interest rate. \n",
    "\n",
    "Holding all other variables constant, a  $1,000 increase in UPB is associated with a 0.0001 decrease in the interest rate.\n",
    "\n",
    "Holding all other variables constant, a 1 percentage point increase in LTV leads to a 0.0074 percentage point increase in the interest rate.\n",
    "\n",
    "From the adjusted R-squared, only about 11% of the variance in interest rates is explained by the model. This suggests that while the included variables are significant, many other factors (e.g., loan type, market rates, term structure) also influence interest rates. \n",
    "\n",
    "The regression confirms that credit risk variables—Credit Score, DTI, LTV—are statistically and economically significant predictors of mortgage interest rates. Higher DTI and LTV increase rates, while better credit scores reduce them. UPB has a very small effect. Despite the low R-squared, the model reveals important directional relationships and is statistically sound, though additional variables would be needed to better explain rate variability. \n",
    "\n",
    "Since the R-squared value is low, we can try to use different regression method to find a better model. \n"
   ]
  },
  {
   "cell_type": "markdown",
   "id": "49f70f5e-c1f5-4f8c-ab61-8aaa05e3a04d",
   "metadata": {},
   "source": [
    "### 4. Testing If All Regressors Are Relevant Using the F-Statistics "
   ]
  },
  {
   "cell_type": "code",
   "execution_count": 11,
   "id": "f8aef207-57fe-4329-9a73-90128d096d80",
   "metadata": {},
   "outputs": [
    {
     "name": "stdout",
     "output_type": "stream",
     "text": [
      "<F test: F=1046.878418430398, p=0.0, df_denom=3.46e+04, df_num=4>\n"
     ]
    }
   ],
   "source": [
    "# f-test\n",
    "hypotheses = '(Credit_Score = 0), (DTI = 0), (UPB_Thousands = 0), (LTV = 0)'\n",
    "f_test_robust = model_1.f_test(hypotheses)\n",
    "print(f_test_robust)"
   ]
  },
  {
   "cell_type": "markdown",
   "id": "368691ee-2ebb-4319-98ab-290912f61292",
   "metadata": {},
   "source": [
    "Null Hypothesis: βDTI = βUPB = βLTV = 0\n",
    "\n",
    "Alternate Hypothesis: Atleast one  of βDTI, βUPB, βLTV ≠ 0\n",
    "\n",
    "(signifcance level at 5%)\n",
    "\n",
    "The F-statistic is exteremly high at 1047 which indicates that the model eplains signficant variation in interest rates. \n",
    "\n",
    "The p value is 0.0, at 5% signficance; we reject the null hypothesis. \n",
    "\n",
    "At least one of the predictors (DTI, UPB, or LTV) has a significant effect on Interest Rate and is not zero. \n",
    " "
   ]
  },
  {
   "cell_type": "markdown",
   "id": "53dbc6ee-3502-41f0-b641-f08ecb13a50c",
   "metadata": {},
   "source": [
    "### 5. Finding a Possible Logarithmic Relationship"
   ]
  },
  {
   "cell_type": "code",
   "execution_count": 12,
   "id": "6ae334c0-7cb5-45df-9a81-359624e9b238",
   "metadata": {},
   "outputs": [
    {
     "data": {
      "text/html": [
       "<table class=\"simpletable\">\n",
       "<caption>OLS Regression Results</caption>\n",
       "<tr>\n",
       "  <th>Dep. Variable:</th>      <td>Interest_Rate</td>  <th>  R-squared:         </th> <td>   0.113</td> \n",
       "</tr>\n",
       "<tr>\n",
       "  <th>Model:</th>                   <td>OLS</td>       <th>  Adj. R-squared:    </th> <td>   0.113</td> \n",
       "</tr>\n",
       "<tr>\n",
       "  <th>Method:</th>             <td>Least Squares</td>  <th>  F-statistic:       </th> <td>   1084.</td> \n",
       "</tr>\n",
       "<tr>\n",
       "  <th>Date:</th>             <td>Wed, 07 May 2025</td> <th>  Prob (F-statistic):</th>  <td>  0.00</td>  \n",
       "</tr>\n",
       "<tr>\n",
       "  <th>Time:</th>                 <td>18:51:28</td>     <th>  Log-Likelihood:    </th> <td> -27217.</td> \n",
       "</tr>\n",
       "<tr>\n",
       "  <th>No. Observations:</th>      <td> 34577</td>      <th>  AIC:               </th> <td>5.444e+04</td>\n",
       "</tr>\n",
       "<tr>\n",
       "  <th>Df Residuals:</th>          <td> 34572</td>      <th>  BIC:               </th> <td>5.449e+04</td>\n",
       "</tr>\n",
       "<tr>\n",
       "  <th>Df Model:</th>              <td>     4</td>      <th>                     </th>     <td> </td>    \n",
       "</tr>\n",
       "<tr>\n",
       "  <th>Covariance Type:</th>         <td>HC1</td>       <th>                     </th>     <td> </td>    \n",
       "</tr>\n",
       "</table>\n",
       "<table class=\"simpletable\">\n",
       "<tr>\n",
       "          <td></td>            <th>coef</th>     <th>std err</th>      <th>z</th>      <th>P>|z|</th>  <th>[0.025</th>    <th>0.975]</th>  \n",
       "</tr>\n",
       "<tr>\n",
       "  <th>Intercept</th>        <td>   14.1478</td> <td>    0.376</td> <td>   37.602</td> <td> 0.000</td> <td>   13.410</td> <td>   14.885</td>\n",
       "</tr>\n",
       "<tr>\n",
       "  <th>log_Credit_Score</th> <td>   -1.4789</td> <td>    0.056</td> <td>  -26.299</td> <td> 0.000</td> <td>   -1.589</td> <td>   -1.369</td>\n",
       "</tr>\n",
       "<tr>\n",
       "  <th>DTI</th>              <td>    0.0078</td> <td>    0.000</td> <td>   26.522</td> <td> 0.000</td> <td>    0.007</td> <td>    0.008</td>\n",
       "</tr>\n",
       "<tr>\n",
       "  <th>log_UPB</th>          <td>   -0.0618</td> <td>    0.005</td> <td>  -12.398</td> <td> 0.000</td> <td>   -0.072</td> <td>   -0.052</td>\n",
       "</tr>\n",
       "<tr>\n",
       "  <th>LTV</th>              <td>    0.0076</td> <td>    0.000</td> <td>   44.963</td> <td> 0.000</td> <td>    0.007</td> <td>    0.008</td>\n",
       "</tr>\n",
       "</table>\n",
       "<table class=\"simpletable\">\n",
       "<tr>\n",
       "  <th>Omnibus:</th>       <td>1055.478</td> <th>  Durbin-Watson:     </th> <td>   0.716</td> \n",
       "</tr>\n",
       "<tr>\n",
       "  <th>Prob(Omnibus):</th>  <td> 0.000</td>  <th>  Jarque-Bera (JB):  </th> <td> 609.210</td> \n",
       "</tr>\n",
       "<tr>\n",
       "  <th>Skew:</th>           <td>-0.169</td>  <th>  Prob(JB):          </th> <td>5.15e-133</td>\n",
       "</tr>\n",
       "<tr>\n",
       "  <th>Kurtosis:</th>       <td> 2.444</td>  <th>  Cond. No.          </th> <td>9.92e+03</td> \n",
       "</tr>\n",
       "</table><br/><br/>Notes:<br/>[1] Standard Errors are heteroscedasticity robust (HC1)<br/>[2] The condition number is large, 9.92e+03. This might indicate that there are<br/>strong multicollinearity or other numerical problems."
      ],
      "text/latex": [
       "\\begin{center}\n",
       "\\begin{tabular}{lclc}\n",
       "\\toprule\n",
       "\\textbf{Dep. Variable:}     &  Interest\\_Rate  & \\textbf{  R-squared:         } &     0.113   \\\\\n",
       "\\textbf{Model:}             &       OLS        & \\textbf{  Adj. R-squared:    } &     0.113   \\\\\n",
       "\\textbf{Method:}            &  Least Squares   & \\textbf{  F-statistic:       } &     1084.   \\\\\n",
       "\\textbf{Date:}              & Wed, 07 May 2025 & \\textbf{  Prob (F-statistic):} &     0.00    \\\\\n",
       "\\textbf{Time:}              &     18:51:28     & \\textbf{  Log-Likelihood:    } &   -27217.   \\\\\n",
       "\\textbf{No. Observations:}  &       34577      & \\textbf{  AIC:               } & 5.444e+04   \\\\\n",
       "\\textbf{Df Residuals:}      &       34572      & \\textbf{  BIC:               } & 5.449e+04   \\\\\n",
       "\\textbf{Df Model:}          &           4      & \\textbf{                     } &             \\\\\n",
       "\\textbf{Covariance Type:}   &       HC1        & \\textbf{                     } &             \\\\\n",
       "\\bottomrule\n",
       "\\end{tabular}\n",
       "\\begin{tabular}{lcccccc}\n",
       "                            & \\textbf{coef} & \\textbf{std err} & \\textbf{z} & \\textbf{P$> |$z$|$} & \\textbf{[0.025} & \\textbf{0.975]}  \\\\\n",
       "\\midrule\n",
       "\\textbf{Intercept}          &      14.1478  &        0.376     &    37.602  &         0.000        &       13.410    &       14.885     \\\\\n",
       "\\textbf{log\\_Credit\\_Score} &      -1.4789  &        0.056     &   -26.299  &         0.000        &       -1.589    &       -1.369     \\\\\n",
       "\\textbf{DTI}                &       0.0078  &        0.000     &    26.522  &         0.000        &        0.007    &        0.008     \\\\\n",
       "\\textbf{log\\_UPB}           &      -0.0618  &        0.005     &   -12.398  &         0.000        &       -0.072    &       -0.052     \\\\\n",
       "\\textbf{LTV}                &       0.0076  &        0.000     &    44.963  &         0.000        &        0.007    &        0.008     \\\\\n",
       "\\bottomrule\n",
       "\\end{tabular}\n",
       "\\begin{tabular}{lclc}\n",
       "\\textbf{Omnibus:}       & 1055.478 & \\textbf{  Durbin-Watson:     } &     0.716  \\\\\n",
       "\\textbf{Prob(Omnibus):} &   0.000  & \\textbf{  Jarque-Bera (JB):  } &   609.210  \\\\\n",
       "\\textbf{Skew:}          &  -0.169  & \\textbf{  Prob(JB):          } & 5.15e-133  \\\\\n",
       "\\textbf{Kurtosis:}      &   2.444  & \\textbf{  Cond. No.          } &  9.92e+03  \\\\\n",
       "\\bottomrule\n",
       "\\end{tabular}\n",
       "%\\caption{OLS Regression Results}\n",
       "\\end{center}\n",
       "\n",
       "Notes: \\newline\n",
       " [1] Standard Errors are heteroscedasticity robust (HC1) \\newline\n",
       " [2] The condition number is large, 9.92e+03. This might indicate that there are \\newline\n",
       " strong multicollinearity or other numerical problems."
      ],
      "text/plain": [
       "<class 'statsmodels.iolib.summary.Summary'>\n",
       "\"\"\"\n",
       "                            OLS Regression Results                            \n",
       "==============================================================================\n",
       "Dep. Variable:          Interest_Rate   R-squared:                       0.113\n",
       "Model:                            OLS   Adj. R-squared:                  0.113\n",
       "Method:                 Least Squares   F-statistic:                     1084.\n",
       "Date:                Wed, 07 May 2025   Prob (F-statistic):               0.00\n",
       "Time:                        18:51:28   Log-Likelihood:                -27217.\n",
       "No. Observations:               34577   AIC:                         5.444e+04\n",
       "Df Residuals:                   34572   BIC:                         5.449e+04\n",
       "Df Model:                           4                                         \n",
       "Covariance Type:                  HC1                                         \n",
       "====================================================================================\n",
       "                       coef    std err          z      P>|z|      [0.025      0.975]\n",
       "------------------------------------------------------------------------------------\n",
       "Intercept           14.1478      0.376     37.602      0.000      13.410      14.885\n",
       "log_Credit_Score    -1.4789      0.056    -26.299      0.000      -1.589      -1.369\n",
       "DTI                  0.0078      0.000     26.522      0.000       0.007       0.008\n",
       "log_UPB             -0.0618      0.005    -12.398      0.000      -0.072      -0.052\n",
       "LTV                  0.0076      0.000     44.963      0.000       0.007       0.008\n",
       "==============================================================================\n",
       "Omnibus:                     1055.478   Durbin-Watson:                   0.716\n",
       "Prob(Omnibus):                  0.000   Jarque-Bera (JB):              609.210\n",
       "Skew:                          -0.169   Prob(JB):                    5.15e-133\n",
       "Kurtosis:                       2.444   Cond. No.                     9.92e+03\n",
       "==============================================================================\n",
       "\n",
       "Notes:\n",
       "[1] Standard Errors are heteroscedasticity robust (HC1)\n",
       "[2] The condition number is large, 9.92e+03. This might indicate that there are\n",
       "strong multicollinearity or other numerical problems.\n",
       "\"\"\""
      ]
     },
     "execution_count": 12,
     "metadata": {},
     "output_type": "execute_result"
    }
   ],
   "source": [
    "# logarithmic regression\n",
    "data1 = data1.copy()\n",
    "data1[\"log_Credit_Score\"] = np.log(data1[\"Credit_Score\"])\n",
    "data1[\"log_UPB\"] = np.log(data1[\"UPB\"])\n",
    "\n",
    "model_2 = sm.ols(\"Interest_Rate ~ log_Credit_Score + DTI + log_UPB + LTV\", data=data1).fit(cov_type =\"HC1\")\n",
    "model_2.summary()"
   ]
  },
  {
   "cell_type": "markdown",
   "id": "023a35b6-7073-4214-90b4-f496671557d8",
   "metadata": {},
   "source": [
    "Holding all independant variables zero, the predcited rate is at 14.14. \n",
    "\n",
    "All predictor varibales have p-values of 0.000 meaning theyare highly statistcally signficant at the 5% level, indicating each variables has a meaningful effect on interest rate. \n",
    "\n",
    "Holding all other variables constant, a 1% increase in Credit Score leads to a 1.48 percentage point decrease in itnerest rate \n",
    "\n",
    "Holding all other variables constant, a 1 percentage point increase in DTI leads to a 0.0078 percentage point increase in the Interest Rate.\n",
    "\n",
    "Holding all other variables constant, a 1% increase in UPB leads to a 0.0618 percentage point decrease in the Interest Rate.\n",
    "\n",
    "Holding all other variables constant, a 1 percentage point increase in LTV leads to a 0.0076 percentage point increase in the Interest Rate."
   ]
  },
  {
   "cell_type": "markdown",
   "id": "64c90dcf-3a35-4527-b73b-ad154184e46e",
   "metadata": {},
   "source": [
    "The new model increase both R-Squared and Adjusted R-Square, which shows it expalins a bit more of the variation in interest rates. It is a better fit. \n",
    "\n",
    "The new model also has a higher F-stastics, indicating stronger overall model signficance.\n",
    "\n",
    "Moreover, the model can be better interpreted as it shows how percentage changes in credit score and UPB changes percentage point changes in interest rates. \n",
    "\n",
    "Thus, the log-transformed model is preferred compared to OLS linear model.We see a logarithmic relationship."
   ]
  },
  {
   "cell_type": "markdown",
   "id": "43e47629-1a64-4d0d-b1a0-69f552ec0b3a",
   "metadata": {},
   "source": [
    "### 6. Interest Rate Based On States (Entity Effect)"
   ]
  },
  {
   "cell_type": "code",
   "execution_count": 13,
   "id": "e7950610-a5b0-48c3-982b-4e8d4ea06238",
   "metadata": {},
   "outputs": [
    {
     "data": {
      "text/html": [
       "<table class=\"simpletable\">\n",
       "<caption>OLS Regression Results</caption>\n",
       "<tr>\n",
       "  <th>Dep. Variable:</th>      <td>Interest_Rate</td>  <th>  R-squared:         </th> <td>   0.148</td> \n",
       "</tr>\n",
       "<tr>\n",
       "  <th>Model:</th>                   <td>OLS</td>       <th>  Adj. R-squared:    </th> <td>   0.147</td> \n",
       "</tr>\n",
       "<tr>\n",
       "  <th>Method:</th>             <td>Least Squares</td>  <th>  F-statistic:       </th> <td>   111.7</td> \n",
       "</tr>\n",
       "<tr>\n",
       "  <th>Date:</th>             <td>Wed, 07 May 2025</td> <th>  Prob (F-statistic):</th>  <td>  0.00</td>  \n",
       "</tr>\n",
       "<tr>\n",
       "  <th>Time:</th>                 <td>18:51:29</td>     <th>  Log-Likelihood:    </th> <td> -26526.</td> \n",
       "</tr>\n",
       "<tr>\n",
       "  <th>No. Observations:</th>      <td> 34577</td>      <th>  AIC:               </th> <td>5.317e+04</td>\n",
       "</tr>\n",
       "<tr>\n",
       "  <th>Df Residuals:</th>          <td> 34520</td>      <th>  BIC:               </th> <td>5.365e+04</td>\n",
       "</tr>\n",
       "<tr>\n",
       "  <th>Df Model:</th>              <td>    56</td>      <th>                     </th>     <td> </td>    \n",
       "</tr>\n",
       "<tr>\n",
       "  <th>Covariance Type:</th>         <td>HC1</td>       <th>                     </th>     <td> </td>    \n",
       "</tr>\n",
       "</table>\n",
       "<table class=\"simpletable\">\n",
       "<tr>\n",
       "          <td></td>            <th>coef</th>     <th>std err</th>      <th>z</th>      <th>P>|z|</th>  <th>[0.025</th>    <th>0.975]</th>  \n",
       "</tr>\n",
       "<tr>\n",
       "  <th>Intercept</th>        <td>   14.8023</td> <td>    0.378</td> <td>   39.133</td> <td> 0.000</td> <td>   14.061</td> <td>   15.544</td>\n",
       "</tr>\n",
       "<tr>\n",
       "  <th>State[T.AL]</th>      <td>    0.1328</td> <td>    0.067</td> <td>    1.973</td> <td> 0.048</td> <td>    0.001</td> <td>    0.265</td>\n",
       "</tr>\n",
       "<tr>\n",
       "  <th>State[T.AR]</th>      <td>   -0.0006</td> <td>    0.071</td> <td>   -0.009</td> <td> 0.993</td> <td>   -0.140</td> <td>    0.139</td>\n",
       "</tr>\n",
       "<tr>\n",
       "  <th>State[T.AZ]</th>      <td>    0.3004</td> <td>    0.063</td> <td>    4.746</td> <td> 0.000</td> <td>    0.176</td> <td>    0.425</td>\n",
       "</tr>\n",
       "<tr>\n",
       "  <th>State[T.CA]</th>      <td>    0.3110</td> <td>    0.060</td> <td>    5.186</td> <td> 0.000</td> <td>    0.193</td> <td>    0.428</td>\n",
       "</tr>\n",
       "<tr>\n",
       "  <th>State[T.CO]</th>      <td>    0.2305</td> <td>    0.062</td> <td>    3.729</td> <td> 0.000</td> <td>    0.109</td> <td>    0.352</td>\n",
       "</tr>\n",
       "<tr>\n",
       "  <th>State[T.CT]</th>      <td>    0.1281</td> <td>    0.064</td> <td>    1.985</td> <td> 0.047</td> <td>    0.002</td> <td>    0.254</td>\n",
       "</tr>\n",
       "<tr>\n",
       "  <th>State[T.DC]</th>      <td>    0.4395</td> <td>    0.076</td> <td>    5.803</td> <td> 0.000</td> <td>    0.291</td> <td>    0.588</td>\n",
       "</tr>\n",
       "<tr>\n",
       "  <th>State[T.DE]</th>      <td>    0.1938</td> <td>    0.076</td> <td>    2.534</td> <td> 0.011</td> <td>    0.044</td> <td>    0.344</td>\n",
       "</tr>\n",
       "<tr>\n",
       "  <th>State[T.FL]</th>      <td>    0.2246</td> <td>    0.062</td> <td>    3.650</td> <td> 0.000</td> <td>    0.104</td> <td>    0.345</td>\n",
       "</tr>\n",
       "<tr>\n",
       "  <th>State[T.GA]</th>      <td>    0.0890</td> <td>    0.063</td> <td>    1.421</td> <td> 0.155</td> <td>   -0.034</td> <td>    0.212</td>\n",
       "</tr>\n",
       "<tr>\n",
       "  <th>State[T.GU]</th>      <td>    0.0910</td> <td>    0.203</td> <td>    0.447</td> <td> 0.655</td> <td>   -0.308</td> <td>    0.490</td>\n",
       "</tr>\n",
       "<tr>\n",
       "  <th>State[T.HI]</th>      <td>    0.2716</td> <td>    0.072</td> <td>    3.792</td> <td> 0.000</td> <td>    0.131</td> <td>    0.412</td>\n",
       "</tr>\n",
       "<tr>\n",
       "  <th>State[T.IA]</th>      <td>   -0.1154</td> <td>    0.066</td> <td>   -1.758</td> <td> 0.079</td> <td>   -0.244</td> <td>    0.013</td>\n",
       "</tr>\n",
       "<tr>\n",
       "  <th>State[T.ID]</th>      <td>    0.1875</td> <td>    0.070</td> <td>    2.660</td> <td> 0.008</td> <td>    0.049</td> <td>    0.326</td>\n",
       "</tr>\n",
       "<tr>\n",
       "  <th>State[T.IL]</th>      <td>    0.0544</td> <td>    0.061</td> <td>    0.893</td> <td> 0.372</td> <td>   -0.065</td> <td>    0.174</td>\n",
       "</tr>\n",
       "<tr>\n",
       "  <th>State[T.IN]</th>      <td>   -0.0050</td> <td>    0.062</td> <td>   -0.080</td> <td> 0.936</td> <td>   -0.127</td> <td>    0.117</td>\n",
       "</tr>\n",
       "<tr>\n",
       "  <th>State[T.KS]</th>      <td>   -0.0145</td> <td>    0.066</td> <td>   -0.221</td> <td> 0.825</td> <td>   -0.143</td> <td>    0.114</td>\n",
       "</tr>\n",
       "<tr>\n",
       "  <th>State[T.KY]</th>      <td>    0.0553</td> <td>    0.063</td> <td>    0.873</td> <td> 0.383</td> <td>   -0.069</td> <td>    0.179</td>\n",
       "</tr>\n",
       "<tr>\n",
       "  <th>State[T.LA]</th>      <td>    0.2076</td> <td>    0.066</td> <td>    3.146</td> <td> 0.002</td> <td>    0.078</td> <td>    0.337</td>\n",
       "</tr>\n",
       "<tr>\n",
       "  <th>State[T.MA]</th>      <td>    0.1275</td> <td>    0.061</td> <td>    2.087</td> <td> 0.037</td> <td>    0.008</td> <td>    0.247</td>\n",
       "</tr>\n",
       "<tr>\n",
       "  <th>State[T.MD]</th>      <td>    0.2203</td> <td>    0.062</td> <td>    3.533</td> <td> 0.000</td> <td>    0.098</td> <td>    0.343</td>\n",
       "</tr>\n",
       "<tr>\n",
       "  <th>State[T.ME]</th>      <td>    0.1014</td> <td>    0.073</td> <td>    1.390</td> <td> 0.165</td> <td>   -0.042</td> <td>    0.244</td>\n",
       "</tr>\n",
       "<tr>\n",
       "  <th>State[T.MI]</th>      <td>    0.0121</td> <td>    0.063</td> <td>    0.194</td> <td> 0.846</td> <td>   -0.111</td> <td>    0.135</td>\n",
       "</tr>\n",
       "<tr>\n",
       "  <th>State[T.MN]</th>      <td>    0.0297</td> <td>    0.062</td> <td>    0.479</td> <td> 0.632</td> <td>   -0.092</td> <td>    0.151</td>\n",
       "</tr>\n",
       "<tr>\n",
       "  <th>State[T.MO]</th>      <td>    0.0302</td> <td>    0.062</td> <td>    0.484</td> <td> 0.628</td> <td>   -0.092</td> <td>    0.153</td>\n",
       "</tr>\n",
       "<tr>\n",
       "  <th>State[T.MS]</th>      <td>    0.2348</td> <td>    0.082</td> <td>    2.851</td> <td> 0.004</td> <td>    0.073</td> <td>    0.396</td>\n",
       "</tr>\n",
       "<tr>\n",
       "  <th>State[T.MT]</th>      <td>    0.0511</td> <td>    0.073</td> <td>    0.701</td> <td> 0.483</td> <td>   -0.092</td> <td>    0.194</td>\n",
       "</tr>\n",
       "<tr>\n",
       "  <th>State[T.NC]</th>      <td>    0.1196</td> <td>    0.062</td> <td>    1.944</td> <td> 0.052</td> <td>   -0.001</td> <td>    0.240</td>\n",
       "</tr>\n",
       "<tr>\n",
       "  <th>State[T.ND]</th>      <td>   -0.0231</td> <td>    0.081</td> <td>   -0.284</td> <td> 0.777</td> <td>   -0.183</td> <td>    0.136</td>\n",
       "</tr>\n",
       "<tr>\n",
       "  <th>State[T.NE]</th>      <td>   -0.0610</td> <td>    0.068</td> <td>   -0.893</td> <td> 0.372</td> <td>   -0.195</td> <td>    0.073</td>\n",
       "</tr>\n",
       "<tr>\n",
       "  <th>State[T.NH]</th>      <td>    0.1113</td> <td>    0.068</td> <td>    1.628</td> <td> 0.103</td> <td>   -0.023</td> <td>    0.245</td>\n",
       "</tr>\n",
       "<tr>\n",
       "  <th>State[T.NJ]</th>      <td>    0.1657</td> <td>    0.062</td> <td>    2.692</td> <td> 0.007</td> <td>    0.045</td> <td>    0.286</td>\n",
       "</tr>\n",
       "<tr>\n",
       "  <th>State[T.NM]</th>      <td>    0.1982</td> <td>    0.072</td> <td>    2.758</td> <td> 0.006</td> <td>    0.057</td> <td>    0.339</td>\n",
       "</tr>\n",
       "<tr>\n",
       "  <th>State[T.NV]</th>      <td>    0.3446</td> <td>    0.069</td> <td>    5.005</td> <td> 0.000</td> <td>    0.210</td> <td>    0.480</td>\n",
       "</tr>\n",
       "<tr>\n",
       "  <th>State[T.NY]</th>      <td>    0.2187</td> <td>    0.061</td> <td>    3.568</td> <td> 0.000</td> <td>    0.099</td> <td>    0.339</td>\n",
       "</tr>\n",
       "<tr>\n",
       "  <th>State[T.OH]</th>      <td>   -0.0327</td> <td>    0.061</td> <td>   -0.534</td> <td> 0.593</td> <td>   -0.153</td> <td>    0.087</td>\n",
       "</tr>\n",
       "<tr>\n",
       "  <th>State[T.OK]</th>      <td>    0.1697</td> <td>    0.066</td> <td>    2.557</td> <td> 0.011</td> <td>    0.040</td> <td>    0.300</td>\n",
       "</tr>\n",
       "<tr>\n",
       "  <th>State[T.OR]</th>      <td>    0.2140</td> <td>    0.064</td> <td>    3.367</td> <td> 0.001</td> <td>    0.089</td> <td>    0.339</td>\n",
       "</tr>\n",
       "<tr>\n",
       "  <th>State[T.PA]</th>      <td>    0.0765</td> <td>    0.061</td> <td>    1.246</td> <td> 0.213</td> <td>   -0.044</td> <td>    0.197</td>\n",
       "</tr>\n",
       "<tr>\n",
       "  <th>State[T.PR]</th>      <td>    0.0758</td> <td>    0.159</td> <td>    0.477</td> <td> 0.633</td> <td>   -0.235</td> <td>    0.387</td>\n",
       "</tr>\n",
       "<tr>\n",
       "  <th>State[T.RI]</th>      <td>    0.0742</td> <td>    0.078</td> <td>    0.956</td> <td> 0.339</td> <td>   -0.078</td> <td>    0.226</td>\n",
       "</tr>\n",
       "<tr>\n",
       "  <th>State[T.SC]</th>      <td>    0.1217</td> <td>    0.065</td> <td>    1.876</td> <td> 0.061</td> <td>   -0.005</td> <td>    0.249</td>\n",
       "</tr>\n",
       "<tr>\n",
       "  <th>State[T.SD]</th>      <td>   -0.0058</td> <td>    0.085</td> <td>   -0.068</td> <td> 0.946</td> <td>   -0.173</td> <td>    0.161</td>\n",
       "</tr>\n",
       "<tr>\n",
       "  <th>State[T.TN]</th>      <td>    0.0924</td> <td>    0.064</td> <td>    1.453</td> <td> 0.146</td> <td>   -0.032</td> <td>    0.217</td>\n",
       "</tr>\n",
       "<tr>\n",
       "  <th>State[T.TX]</th>      <td>    0.1440</td> <td>    0.061</td> <td>    2.368</td> <td> 0.018</td> <td>    0.025</td> <td>    0.263</td>\n",
       "</tr>\n",
       "<tr>\n",
       "  <th>State[T.UT]</th>      <td>    0.0320</td> <td>    0.064</td> <td>    0.499</td> <td> 0.618</td> <td>   -0.094</td> <td>    0.158</td>\n",
       "</tr>\n",
       "<tr>\n",
       "  <th>State[T.VA]</th>      <td>    0.2210</td> <td>    0.061</td> <td>    3.615</td> <td> 0.000</td> <td>    0.101</td> <td>    0.341</td>\n",
       "</tr>\n",
       "<tr>\n",
       "  <th>State[T.VT]</th>      <td>    0.1806</td> <td>    0.074</td> <td>    2.424</td> <td> 0.015</td> <td>    0.035</td> <td>    0.327</td>\n",
       "</tr>\n",
       "<tr>\n",
       "  <th>State[T.WA]</th>      <td>    0.1828</td> <td>    0.062</td> <td>    2.959</td> <td> 0.003</td> <td>    0.062</td> <td>    0.304</td>\n",
       "</tr>\n",
       "<tr>\n",
       "  <th>State[T.WI]</th>      <td>   -0.0218</td> <td>    0.062</td> <td>   -0.352</td> <td> 0.725</td> <td>   -0.143</td> <td>    0.099</td>\n",
       "</tr>\n",
       "<tr>\n",
       "  <th>State[T.WV]</th>      <td>    0.1125</td> <td>    0.080</td> <td>    1.414</td> <td> 0.157</td> <td>   -0.043</td> <td>    0.268</td>\n",
       "</tr>\n",
       "<tr>\n",
       "  <th>State[T.WY]</th>      <td>    0.2116</td> <td>    0.085</td> <td>    2.501</td> <td> 0.012</td> <td>    0.046</td> <td>    0.378</td>\n",
       "</tr>\n",
       "<tr>\n",
       "  <th>log_Credit_Score</th> <td>   -1.4901</td> <td>    0.056</td> <td>  -26.812</td> <td> 0.000</td> <td>   -1.599</td> <td>   -1.381</td>\n",
       "</tr>\n",
       "<tr>\n",
       "  <th>DTI</th>              <td>    0.0066</td> <td>    0.000</td> <td>   22.590</td> <td> 0.000</td> <td>    0.006</td> <td>    0.007</td>\n",
       "</tr>\n",
       "<tr>\n",
       "  <th>log_UPB</th>          <td>   -0.1250</td> <td>    0.005</td> <td>  -22.958</td> <td> 0.000</td> <td>   -0.136</td> <td>   -0.114</td>\n",
       "</tr>\n",
       "<tr>\n",
       "  <th>LTV</th>              <td>    0.0088</td> <td>    0.000</td> <td>   50.980</td> <td> 0.000</td> <td>    0.008</td> <td>    0.009</td>\n",
       "</tr>\n",
       "</table>\n",
       "<table class=\"simpletable\">\n",
       "<tr>\n",
       "  <th>Omnibus:</th>       <td>929.290</td> <th>  Durbin-Watson:     </th> <td>   0.753</td> \n",
       "</tr>\n",
       "<tr>\n",
       "  <th>Prob(Omnibus):</th> <td> 0.000</td>  <th>  Jarque-Bera (JB):  </th> <td> 552.661</td> \n",
       "</tr>\n",
       "<tr>\n",
       "  <th>Skew:</th>          <td>-0.159</td>  <th>  Prob(JB):          </th> <td>9.80e-121</td>\n",
       "</tr>\n",
       "<tr>\n",
       "  <th>Kurtosis:</th>      <td> 2.469</td>  <th>  Cond. No.          </th> <td>1.10e+04</td> \n",
       "</tr>\n",
       "</table><br/><br/>Notes:<br/>[1] Standard Errors are heteroscedasticity robust (HC1)<br/>[2] The condition number is large, 1.1e+04. This might indicate that there are<br/>strong multicollinearity or other numerical problems."
      ],
      "text/latex": [
       "\\begin{center}\n",
       "\\begin{tabular}{lclc}\n",
       "\\toprule\n",
       "\\textbf{Dep. Variable:}     &  Interest\\_Rate  & \\textbf{  R-squared:         } &     0.148   \\\\\n",
       "\\textbf{Model:}             &       OLS        & \\textbf{  Adj. R-squared:    } &     0.147   \\\\\n",
       "\\textbf{Method:}            &  Least Squares   & \\textbf{  F-statistic:       } &     111.7   \\\\\n",
       "\\textbf{Date:}              & Wed, 07 May 2025 & \\textbf{  Prob (F-statistic):} &     0.00    \\\\\n",
       "\\textbf{Time:}              &     18:51:29     & \\textbf{  Log-Likelihood:    } &   -26526.   \\\\\n",
       "\\textbf{No. Observations:}  &       34577      & \\textbf{  AIC:               } & 5.317e+04   \\\\\n",
       "\\textbf{Df Residuals:}      &       34520      & \\textbf{  BIC:               } & 5.365e+04   \\\\\n",
       "\\textbf{Df Model:}          &          56      & \\textbf{                     } &             \\\\\n",
       "\\textbf{Covariance Type:}   &       HC1        & \\textbf{                     } &             \\\\\n",
       "\\bottomrule\n",
       "\\end{tabular}\n",
       "\\begin{tabular}{lcccccc}\n",
       "                            & \\textbf{coef} & \\textbf{std err} & \\textbf{z} & \\textbf{P$> |$z$|$} & \\textbf{[0.025} & \\textbf{0.975]}  \\\\\n",
       "\\midrule\n",
       "\\textbf{Intercept}          &      14.8023  &        0.378     &    39.133  &         0.000        &       14.061    &       15.544     \\\\\n",
       "\\textbf{State[T.AL]}        &       0.1328  &        0.067     &     1.973  &         0.048        &        0.001    &        0.265     \\\\\n",
       "\\textbf{State[T.AR]}        &      -0.0006  &        0.071     &    -0.009  &         0.993        &       -0.140    &        0.139     \\\\\n",
       "\\textbf{State[T.AZ]}        &       0.3004  &        0.063     &     4.746  &         0.000        &        0.176    &        0.425     \\\\\n",
       "\\textbf{State[T.CA]}        &       0.3110  &        0.060     &     5.186  &         0.000        &        0.193    &        0.428     \\\\\n",
       "\\textbf{State[T.CO]}        &       0.2305  &        0.062     &     3.729  &         0.000        &        0.109    &        0.352     \\\\\n",
       "\\textbf{State[T.CT]}        &       0.1281  &        0.064     &     1.985  &         0.047        &        0.002    &        0.254     \\\\\n",
       "\\textbf{State[T.DC]}        &       0.4395  &        0.076     &     5.803  &         0.000        &        0.291    &        0.588     \\\\\n",
       "\\textbf{State[T.DE]}        &       0.1938  &        0.076     &     2.534  &         0.011        &        0.044    &        0.344     \\\\\n",
       "\\textbf{State[T.FL]}        &       0.2246  &        0.062     &     3.650  &         0.000        &        0.104    &        0.345     \\\\\n",
       "\\textbf{State[T.GA]}        &       0.0890  &        0.063     &     1.421  &         0.155        &       -0.034    &        0.212     \\\\\n",
       "\\textbf{State[T.GU]}        &       0.0910  &        0.203     &     0.447  &         0.655        &       -0.308    &        0.490     \\\\\n",
       "\\textbf{State[T.HI]}        &       0.2716  &        0.072     &     3.792  &         0.000        &        0.131    &        0.412     \\\\\n",
       "\\textbf{State[T.IA]}        &      -0.1154  &        0.066     &    -1.758  &         0.079        &       -0.244    &        0.013     \\\\\n",
       "\\textbf{State[T.ID]}        &       0.1875  &        0.070     &     2.660  &         0.008        &        0.049    &        0.326     \\\\\n",
       "\\textbf{State[T.IL]}        &       0.0544  &        0.061     &     0.893  &         0.372        &       -0.065    &        0.174     \\\\\n",
       "\\textbf{State[T.IN]}        &      -0.0050  &        0.062     &    -0.080  &         0.936        &       -0.127    &        0.117     \\\\\n",
       "\\textbf{State[T.KS]}        &      -0.0145  &        0.066     &    -0.221  &         0.825        &       -0.143    &        0.114     \\\\\n",
       "\\textbf{State[T.KY]}        &       0.0553  &        0.063     &     0.873  &         0.383        &       -0.069    &        0.179     \\\\\n",
       "\\textbf{State[T.LA]}        &       0.2076  &        0.066     &     3.146  &         0.002        &        0.078    &        0.337     \\\\\n",
       "\\textbf{State[T.MA]}        &       0.1275  &        0.061     &     2.087  &         0.037        &        0.008    &        0.247     \\\\\n",
       "\\textbf{State[T.MD]}        &       0.2203  &        0.062     &     3.533  &         0.000        &        0.098    &        0.343     \\\\\n",
       "\\textbf{State[T.ME]}        &       0.1014  &        0.073     &     1.390  &         0.165        &       -0.042    &        0.244     \\\\\n",
       "\\textbf{State[T.MI]}        &       0.0121  &        0.063     &     0.194  &         0.846        &       -0.111    &        0.135     \\\\\n",
       "\\textbf{State[T.MN]}        &       0.0297  &        0.062     &     0.479  &         0.632        &       -0.092    &        0.151     \\\\\n",
       "\\textbf{State[T.MO]}        &       0.0302  &        0.062     &     0.484  &         0.628        &       -0.092    &        0.153     \\\\\n",
       "\\textbf{State[T.MS]}        &       0.2348  &        0.082     &     2.851  &         0.004        &        0.073    &        0.396     \\\\\n",
       "\\textbf{State[T.MT]}        &       0.0511  &        0.073     &     0.701  &         0.483        &       -0.092    &        0.194     \\\\\n",
       "\\textbf{State[T.NC]}        &       0.1196  &        0.062     &     1.944  &         0.052        &       -0.001    &        0.240     \\\\\n",
       "\\textbf{State[T.ND]}        &      -0.0231  &        0.081     &    -0.284  &         0.777        &       -0.183    &        0.136     \\\\\n",
       "\\textbf{State[T.NE]}        &      -0.0610  &        0.068     &    -0.893  &         0.372        &       -0.195    &        0.073     \\\\\n",
       "\\textbf{State[T.NH]}        &       0.1113  &        0.068     &     1.628  &         0.103        &       -0.023    &        0.245     \\\\\n",
       "\\textbf{State[T.NJ]}        &       0.1657  &        0.062     &     2.692  &         0.007        &        0.045    &        0.286     \\\\\n",
       "\\textbf{State[T.NM]}        &       0.1982  &        0.072     &     2.758  &         0.006        &        0.057    &        0.339     \\\\\n",
       "\\textbf{State[T.NV]}        &       0.3446  &        0.069     &     5.005  &         0.000        &        0.210    &        0.480     \\\\\n",
       "\\textbf{State[T.NY]}        &       0.2187  &        0.061     &     3.568  &         0.000        &        0.099    &        0.339     \\\\\n",
       "\\textbf{State[T.OH]}        &      -0.0327  &        0.061     &    -0.534  &         0.593        &       -0.153    &        0.087     \\\\\n",
       "\\textbf{State[T.OK]}        &       0.1697  &        0.066     &     2.557  &         0.011        &        0.040    &        0.300     \\\\\n",
       "\\textbf{State[T.OR]}        &       0.2140  &        0.064     &     3.367  &         0.001        &        0.089    &        0.339     \\\\\n",
       "\\textbf{State[T.PA]}        &       0.0765  &        0.061     &     1.246  &         0.213        &       -0.044    &        0.197     \\\\\n",
       "\\textbf{State[T.PR]}        &       0.0758  &        0.159     &     0.477  &         0.633        &       -0.235    &        0.387     \\\\\n",
       "\\textbf{State[T.RI]}        &       0.0742  &        0.078     &     0.956  &         0.339        &       -0.078    &        0.226     \\\\\n",
       "\\textbf{State[T.SC]}        &       0.1217  &        0.065     &     1.876  &         0.061        &       -0.005    &        0.249     \\\\\n",
       "\\textbf{State[T.SD]}        &      -0.0058  &        0.085     &    -0.068  &         0.946        &       -0.173    &        0.161     \\\\\n",
       "\\textbf{State[T.TN]}        &       0.0924  &        0.064     &     1.453  &         0.146        &       -0.032    &        0.217     \\\\\n",
       "\\textbf{State[T.TX]}        &       0.1440  &        0.061     &     2.368  &         0.018        &        0.025    &        0.263     \\\\\n",
       "\\textbf{State[T.UT]}        &       0.0320  &        0.064     &     0.499  &         0.618        &       -0.094    &        0.158     \\\\\n",
       "\\textbf{State[T.VA]}        &       0.2210  &        0.061     &     3.615  &         0.000        &        0.101    &        0.341     \\\\\n",
       "\\textbf{State[T.VT]}        &       0.1806  &        0.074     &     2.424  &         0.015        &        0.035    &        0.327     \\\\\n",
       "\\textbf{State[T.WA]}        &       0.1828  &        0.062     &     2.959  &         0.003        &        0.062    &        0.304     \\\\\n",
       "\\textbf{State[T.WI]}        &      -0.0218  &        0.062     &    -0.352  &         0.725        &       -0.143    &        0.099     \\\\\n",
       "\\textbf{State[T.WV]}        &       0.1125  &        0.080     &     1.414  &         0.157        &       -0.043    &        0.268     \\\\\n",
       "\\textbf{State[T.WY]}        &       0.2116  &        0.085     &     2.501  &         0.012        &        0.046    &        0.378     \\\\\n",
       "\\textbf{log\\_Credit\\_Score} &      -1.4901  &        0.056     &   -26.812  &         0.000        &       -1.599    &       -1.381     \\\\\n",
       "\\textbf{DTI}                &       0.0066  &        0.000     &    22.590  &         0.000        &        0.006    &        0.007     \\\\\n",
       "\\textbf{log\\_UPB}           &      -0.1250  &        0.005     &   -22.958  &         0.000        &       -0.136    &       -0.114     \\\\\n",
       "\\textbf{LTV}                &       0.0088  &        0.000     &    50.980  &         0.000        &        0.008    &        0.009     \\\\\n",
       "\\bottomrule\n",
       "\\end{tabular}\n",
       "\\begin{tabular}{lclc}\n",
       "\\textbf{Omnibus:}       & 929.290 & \\textbf{  Durbin-Watson:     } &     0.753  \\\\\n",
       "\\textbf{Prob(Omnibus):} &   0.000 & \\textbf{  Jarque-Bera (JB):  } &   552.661  \\\\\n",
       "\\textbf{Skew:}          &  -0.159 & \\textbf{  Prob(JB):          } & 9.80e-121  \\\\\n",
       "\\textbf{Kurtosis:}      &   2.469 & \\textbf{  Cond. No.          } &  1.10e+04  \\\\\n",
       "\\bottomrule\n",
       "\\end{tabular}\n",
       "%\\caption{OLS Regression Results}\n",
       "\\end{center}\n",
       "\n",
       "Notes: \\newline\n",
       " [1] Standard Errors are heteroscedasticity robust (HC1) \\newline\n",
       " [2] The condition number is large, 1.1e+04. This might indicate that there are \\newline\n",
       " strong multicollinearity or other numerical problems."
      ],
      "text/plain": [
       "<class 'statsmodels.iolib.summary.Summary'>\n",
       "\"\"\"\n",
       "                            OLS Regression Results                            \n",
       "==============================================================================\n",
       "Dep. Variable:          Interest_Rate   R-squared:                       0.148\n",
       "Model:                            OLS   Adj. R-squared:                  0.147\n",
       "Method:                 Least Squares   F-statistic:                     111.7\n",
       "Date:                Wed, 07 May 2025   Prob (F-statistic):               0.00\n",
       "Time:                        18:51:29   Log-Likelihood:                -26526.\n",
       "No. Observations:               34577   AIC:                         5.317e+04\n",
       "Df Residuals:                   34520   BIC:                         5.365e+04\n",
       "Df Model:                          56                                         \n",
       "Covariance Type:                  HC1                                         \n",
       "====================================================================================\n",
       "                       coef    std err          z      P>|z|      [0.025      0.975]\n",
       "------------------------------------------------------------------------------------\n",
       "Intercept           14.8023      0.378     39.133      0.000      14.061      15.544\n",
       "State[T.AL]          0.1328      0.067      1.973      0.048       0.001       0.265\n",
       "State[T.AR]         -0.0006      0.071     -0.009      0.993      -0.140       0.139\n",
       "State[T.AZ]          0.3004      0.063      4.746      0.000       0.176       0.425\n",
       "State[T.CA]          0.3110      0.060      5.186      0.000       0.193       0.428\n",
       "State[T.CO]          0.2305      0.062      3.729      0.000       0.109       0.352\n",
       "State[T.CT]          0.1281      0.064      1.985      0.047       0.002       0.254\n",
       "State[T.DC]          0.4395      0.076      5.803      0.000       0.291       0.588\n",
       "State[T.DE]          0.1938      0.076      2.534      0.011       0.044       0.344\n",
       "State[T.FL]          0.2246      0.062      3.650      0.000       0.104       0.345\n",
       "State[T.GA]          0.0890      0.063      1.421      0.155      -0.034       0.212\n",
       "State[T.GU]          0.0910      0.203      0.447      0.655      -0.308       0.490\n",
       "State[T.HI]          0.2716      0.072      3.792      0.000       0.131       0.412\n",
       "State[T.IA]         -0.1154      0.066     -1.758      0.079      -0.244       0.013\n",
       "State[T.ID]          0.1875      0.070      2.660      0.008       0.049       0.326\n",
       "State[T.IL]          0.0544      0.061      0.893      0.372      -0.065       0.174\n",
       "State[T.IN]         -0.0050      0.062     -0.080      0.936      -0.127       0.117\n",
       "State[T.KS]         -0.0145      0.066     -0.221      0.825      -0.143       0.114\n",
       "State[T.KY]          0.0553      0.063      0.873      0.383      -0.069       0.179\n",
       "State[T.LA]          0.2076      0.066      3.146      0.002       0.078       0.337\n",
       "State[T.MA]          0.1275      0.061      2.087      0.037       0.008       0.247\n",
       "State[T.MD]          0.2203      0.062      3.533      0.000       0.098       0.343\n",
       "State[T.ME]          0.1014      0.073      1.390      0.165      -0.042       0.244\n",
       "State[T.MI]          0.0121      0.063      0.194      0.846      -0.111       0.135\n",
       "State[T.MN]          0.0297      0.062      0.479      0.632      -0.092       0.151\n",
       "State[T.MO]          0.0302      0.062      0.484      0.628      -0.092       0.153\n",
       "State[T.MS]          0.2348      0.082      2.851      0.004       0.073       0.396\n",
       "State[T.MT]          0.0511      0.073      0.701      0.483      -0.092       0.194\n",
       "State[T.NC]          0.1196      0.062      1.944      0.052      -0.001       0.240\n",
       "State[T.ND]         -0.0231      0.081     -0.284      0.777      -0.183       0.136\n",
       "State[T.NE]         -0.0610      0.068     -0.893      0.372      -0.195       0.073\n",
       "State[T.NH]          0.1113      0.068      1.628      0.103      -0.023       0.245\n",
       "State[T.NJ]          0.1657      0.062      2.692      0.007       0.045       0.286\n",
       "State[T.NM]          0.1982      0.072      2.758      0.006       0.057       0.339\n",
       "State[T.NV]          0.3446      0.069      5.005      0.000       0.210       0.480\n",
       "State[T.NY]          0.2187      0.061      3.568      0.000       0.099       0.339\n",
       "State[T.OH]         -0.0327      0.061     -0.534      0.593      -0.153       0.087\n",
       "State[T.OK]          0.1697      0.066      2.557      0.011       0.040       0.300\n",
       "State[T.OR]          0.2140      0.064      3.367      0.001       0.089       0.339\n",
       "State[T.PA]          0.0765      0.061      1.246      0.213      -0.044       0.197\n",
       "State[T.PR]          0.0758      0.159      0.477      0.633      -0.235       0.387\n",
       "State[T.RI]          0.0742      0.078      0.956      0.339      -0.078       0.226\n",
       "State[T.SC]          0.1217      0.065      1.876      0.061      -0.005       0.249\n",
       "State[T.SD]         -0.0058      0.085     -0.068      0.946      -0.173       0.161\n",
       "State[T.TN]          0.0924      0.064      1.453      0.146      -0.032       0.217\n",
       "State[T.TX]          0.1440      0.061      2.368      0.018       0.025       0.263\n",
       "State[T.UT]          0.0320      0.064      0.499      0.618      -0.094       0.158\n",
       "State[T.VA]          0.2210      0.061      3.615      0.000       0.101       0.341\n",
       "State[T.VT]          0.1806      0.074      2.424      0.015       0.035       0.327\n",
       "State[T.WA]          0.1828      0.062      2.959      0.003       0.062       0.304\n",
       "State[T.WI]         -0.0218      0.062     -0.352      0.725      -0.143       0.099\n",
       "State[T.WV]          0.1125      0.080      1.414      0.157      -0.043       0.268\n",
       "State[T.WY]          0.2116      0.085      2.501      0.012       0.046       0.378\n",
       "log_Credit_Score    -1.4901      0.056    -26.812      0.000      -1.599      -1.381\n",
       "DTI                  0.0066      0.000     22.590      0.000       0.006       0.007\n",
       "log_UPB             -0.1250      0.005    -22.958      0.000      -0.136      -0.114\n",
       "LTV                  0.0088      0.000     50.980      0.000       0.008       0.009\n",
       "==============================================================================\n",
       "Omnibus:                      929.290   Durbin-Watson:                   0.753\n",
       "Prob(Omnibus):                  0.000   Jarque-Bera (JB):              552.661\n",
       "Skew:                          -0.159   Prob(JB):                    9.80e-121\n",
       "Kurtosis:                       2.469   Cond. No.                     1.10e+04\n",
       "==============================================================================\n",
       "\n",
       "Notes:\n",
       "[1] Standard Errors are heteroscedasticity robust (HC1)\n",
       "[2] The condition number is large, 1.1e+04. This might indicate that there are\n",
       "strong multicollinearity or other numerical problems.\n",
       "\"\"\""
      ]
     },
     "execution_count": 13,
     "metadata": {},
     "output_type": "execute_result"
    }
   ],
   "source": [
    "# adding dummy variables\n",
    "model_3 = sm.ols(\"Interest_Rate ~ log_Credit_Score + DTI + log_UPB + LTV + State\", data=data1).fit(cov_type =\"HC1\")\n",
    "model_3.summary()"
   ]
  },
  {
   "cell_type": "markdown",
   "id": "2d6778bc-fa44-4147-b2dc-56f17950cd6b",
   "metadata": {},
   "source": [
    "To avoid the dummy variable trap, we drop one of the dummary variables, Alaska. "
   ]
  },
  {
   "cell_type": "markdown",
   "id": "dda4934b-bdac-45aa-a428-c71e9898be1c",
   "metadata": {},
   "source": [
    "Taking two States as Examples for interpretation:\n",
    "\n",
    "State[T.NV] (0.3446, p = 0.000)\n",
    "With statiscal signficance, loans in Nevada have interest rates that are 0.3446 percentage points higher than Alaska.  \n",
    "\n",
    "\n",
    "State[T.TX] (-0.1154, p = 0.079)\n",
    "At the 90% signficance level (alpha = 10%), loans in Texas have interest rates that are -.1154 percentage point slower than Alaska. "
   ]
  },
  {
   "cell_type": "markdown",
   "id": "aeb28ce8-fb3c-4682-afd7-d70e03ff1848",
   "metadata": {},
   "source": [
    "log_Credit_Score (-1.4901): The coefficient remains nearly unchanged, meaning that state-level differences do not significantly impact the relationship between credit score and interest rates.\n",
    "\n",
    "DTI (0.0066): The effect of DTI on interest rates decreases slightly, likely because some state-level factors may already explain borrower risk.\n",
    "\n",
    "log_UPB (-0.1250): The effect becomes more negative, meaning that after accounting for state differences, larger loan amounts are associated with even lower interest rates.\n",
    "\n",
    "LTV (0.0088): The effect increases slightly, possibly because LTV may capture risk factors that vary across states. \n"
   ]
  },
  {
   "cell_type": "markdown",
   "id": "05628c55-3e71-40a5-b354-678bd836619d",
   "metadata": {},
   "source": [
    "To improve the model, we adjust for the entity effect. These dummy variables control for entity-specific characteristics that do not change over time and might otherwise bias your coefficient estimates.\n"
   ]
  },
  {
   "cell_type": "markdown",
   "id": "38ca2778-e685-4bec-a7b7-65f94f821a93",
   "metadata": {},
   "source": [
    "R-Squared increased from 0.113 to 0.148, indicating that the model explains more variation in interest rates after including state variables.\n",
    "\n",
    "The F-statistic increased, meaning the overall model is more statistically significant.\n",
    "\t\n",
    "Thus, the goodness of the model improved. The location of where the loan is made is signficant in determining interest rates. "
   ]
  },
  {
   "cell_type": "markdown",
   "id": "98cc3c91-f2bf-4e6e-b16d-300c7ec250a8",
   "metadata": {},
   "source": [
    "### 7. Machine Learning"
   ]
  },
  {
   "cell_type": "code",
   "execution_count": 14,
   "id": "e0a8d3e3-9336-47f0-a7e8-673b851f3669",
   "metadata": {},
   "outputs": [],
   "source": [
    "from sklearn.model_selection import train_test_split\n",
    "from sklearn.preprocessing import StandardScaler\n",
    "\n",
    "# Features and target\n",
    "features = ['log_Credit_Score', 'DTI', 'log_UPB', 'LTV'] \n",
    "X = data1[features]\n",
    "y = data1['Interest_Rate']\n",
    "\n",
    "# Train-test split\n",
    "X_train, X_test, y_train, y_test = train_test_split(X, y, test_size=0.2, random_state=42)\n",
    "\n",
    "# SVR needs feature scaling\n",
    "scaler = StandardScaler()\n",
    "X_train_scaled = scaler.fit_transform(X_train)\n",
    "X_test_scaled = scaler.transform(X_test)"
   ]
  },
  {
   "cell_type": "code",
   "execution_count": 15,
   "id": "d56b3924-fa7b-4c81-a289-3f11674b150c",
   "metadata": {},
   "outputs": [
    {
     "name": "stdout",
     "output_type": "stream",
     "text": [
      "Decision Tree RMSE: 0.7513954677813232\n",
      "Decision Tree R2: -0.7576783815684185\n"
     ]
    }
   ],
   "source": [
    "from sklearn.tree import DecisionTreeRegressor\n",
    "from sklearn.metrics import mean_squared_error, r2_score\n",
    "import numpy as np\n",
    "\n",
    "dt = DecisionTreeRegressor(random_state=42)\n",
    "dt.fit(X_train, y_train)\n",
    "y_pred_dt = dt.predict(X_test)\n",
    "\n",
    "print(\"Decision Tree RMSE:\", np.sqrt(mean_squared_error(y_test, y_pred_dt)))\n",
    "print(\"Decision Tree R2:\", r2_score(y_test, y_pred_dt))"
   ]
  },
  {
   "cell_type": "code",
   "execution_count": 16,
   "id": "ef514c54-b27f-4111-9515-4b7ffd20ff6d",
   "metadata": {},
   "outputs": [
    {
     "name": "stdout",
     "output_type": "stream",
     "text": [
      "Best Parameters: {'max_depth': 5, 'min_samples_leaf': 4, 'min_samples_split': 10}\n",
      "Decision Tree RMSE: 0.5320531818725436\n",
      "Decision Tree R2: 0.11872315720857363\n"
     ]
    }
   ],
   "source": [
    "from sklearn.metrics import mean_squared_error, r2_score\n",
    "from sklearn.model_selection import GridSearchCV\n",
    "param_grid = {\n",
    "    'max_depth': [3, 5, 10, None],           # Control tree depth\n",
    "    'min_samples_split': [2, 5, 10],         # Min samples to split a node\n",
    "    'min_samples_leaf': [1, 2, 4]            # Min samples in a leaf\n",
    "}\n",
    "\n",
    "grid_search = GridSearchCV(DecisionTreeRegressor(random_state=42), param_grid, cv=5, scoring='neg_mean_squared_error')\n",
    "grid_search.fit(X_train, y_train)\n",
    "\n",
    "best_dt = grid_search.best_estimator_\n",
    "\n",
    "y_pred_dt = best_dt.predict(X_test)\n",
    "\n",
    "print(\"Best Parameters:\", grid_search.best_params_)\n",
    "print(\"Decision Tree RMSE:\", np.sqrt(mean_squared_error(y_test, y_pred_dt)))\n",
    "print(\"Decision Tree R2:\", r2_score(y_test, y_pred_dt))"
   ]
  },
  {
   "cell_type": "code",
   "execution_count": 17,
   "id": "c77e67cd-bc9a-43c5-bea2-327bfa2e9244",
   "metadata": {},
   "outputs": [
    {
     "name": "stdout",
     "output_type": "stream",
     "text": [
      "SVR RMSE: 0.5312642048833389\n",
      "SVR R2: 0.12133489468640923\n"
     ]
    }
   ],
   "source": [
    "from sklearn.svm import SVR\n",
    "\n",
    "svr = SVR(kernel='rbf', C=1.0, epsilon=0.1)\n",
    "svr.fit(X_train_scaled, y_train)\n",
    "y_pred_svr = svr.predict(X_test_scaled)\n",
    "\n",
    "print(\"SVR RMSE:\", np.sqrt(mean_squared_error(y_test, y_pred_svr)))\n",
    "print(\"SVR R2:\", r2_score(y_test, y_pred_svr))"
   ]
  },
  {
   "cell_type": "code",
   "execution_count": 18,
   "id": "e8b71b5f-3258-4ae7-9247-ce9d83422f41",
   "metadata": {},
   "outputs": [
    {
     "name": "stdout",
     "output_type": "stream",
     "text": [
      "Best Parameters: {'C': 0.1, 'epsilon': 0.2}\n",
      "SVR RMSE: 0.5288895571538961\n",
      "SVR R2: 0.1291722641478087\n"
     ]
    }
   ],
   "source": [
    "param_grid = {\n",
    "    'C': [0.1, 1, 10],\n",
    "    'epsilon': [0.01, 0.1, 0.2]\n",
    "}\n",
    "\n",
    "grid_search = GridSearchCV(SVR(kernel='rbf'), param_grid, cv=5, scoring='neg_mean_squared_error', n_jobs=-1)\n",
    "grid_search.fit(X_train_scaled, y_train)\n",
    "\n",
    "best_svr = grid_search.best_estimator_\n",
    "\n",
    "y_pred_svr = best_svr.predict(X_test_scaled)\n",
    "print(\"Best Parameters:\", grid_search.best_params_)\n",
    "print(\"SVR RMSE:\", np.sqrt(mean_squared_error(y_test, y_pred_svr)))\n",
    "print(\"SVR R2:\", r2_score(y_test, y_pred_svr))"
   ]
  },
  {
   "cell_type": "code",
   "execution_count": 19,
   "id": "704416e6-6c02-4313-af17-412c0642f8f0",
   "metadata": {},
   "outputs": [
    {
     "name": "stdout",
     "output_type": "stream",
     "text": [
      "Random Forest RMSE: 0.5518054675489256\n",
      "Random Forest R2: 0.052074366376190784\n"
     ]
    }
   ],
   "source": [
    "from sklearn.ensemble import RandomForestRegressor\n",
    "\n",
    "rf = RandomForestRegressor(n_estimators=100, random_state=42)\n",
    "rf.fit(X_train, y_train)\n",
    "y_pred_rf = rf.predict(X_test)\n",
    "\n",
    "print(\"Random Forest RMSE:\", np.sqrt(mean_squared_error(y_test, y_pred_rf)))\n",
    "print(\"Random Forest R2:\", r2_score(y_test, y_pred_rf))"
   ]
  },
  {
   "cell_type": "code",
   "execution_count": 20,
   "id": "d71592ca-80c2-4495-9b13-3bb2d3413ecd",
   "metadata": {},
   "outputs": [
    {
     "name": "stderr",
     "output_type": "stream",
     "text": [
      "/opt/miniconda3/lib/python3.12/site-packages/joblib/externals/loky/process_executor.py:752: UserWarning: A worker stopped while some jobs were given to the executor. This can be caused by a too short worker timeout or by a memory leak.\n",
      "  warnings.warn(\n"
     ]
    },
    {
     "name": "stdout",
     "output_type": "stream",
     "text": [
      "Best Parameters: {'max_depth': 10, 'min_samples_leaf': 1, 'min_samples_split': 10, 'n_estimators': 200}\n",
      "Random Forest RMSE: 0.5268124369187444\n",
      "Random Forest R2: 0.1359988765799125\n"
     ]
    }
   ],
   "source": [
    "param_grid = {\n",
    "    'n_estimators': [100, 200],\n",
    "    'max_depth': [None, 10, 20],\n",
    "    'min_samples_split': [2, 5, 10],\n",
    "    'min_samples_leaf': [1, 2, 4]\n",
    "}\n",
    "\n",
    "grid_search = GridSearchCV(\n",
    "    estimator=RandomForestRegressor(random_state=42),\n",
    "    param_grid=param_grid,\n",
    "    cv=5,\n",
    "    scoring='neg_mean_squared_error',\n",
    "    n_jobs=-1\n",
    ")\n",
    "\n",
    "grid_search.fit(X_train, y_train)\n",
    "best_rf = grid_search.best_estimator_\n",
    "y_pred_rf = best_rf.predict(X_test)\n",
    "\n",
    "print(\"Best Parameters:\", grid_search.best_params_)\n",
    "print(\"Random Forest RMSE:\", np.sqrt(mean_squared_error(y_test, y_pred_rf)))\n",
    "print(\"Random Forest R2:\", r2_score(y_test, y_pred_rf))"
   ]
  },
  {
   "cell_type": "markdown",
   "id": "12cd16a5-43cd-44cc-9d06-3b2d397c8eef",
   "metadata": {},
   "source": [
    "Findings:\n",
    "\n",
    "The ML models used here (Decision Trees, SVR and Random Forest) perform slightly better than the OLS regression after parameters tuned by Grid Search. \n",
    "\n",
    "There are several possible reasons for this results:\n",
    "1. While the OLS regression results showed that the selected predictors were statistically significant, they do not capture much of the overall variation in interest rates (with a low R^2 of 0.11).\n",
    "\n",
    "2. More features might be needed to boost the performance, such as loan type, term, geographic location, or broader economic indicators. The models need rich context that help improve predictions.\n",
    "\n",
    "3. The target variable, interest rate, spans a very narrow range (approximately 3.9% to 4.8% as shown in the box plot), making it challenging for any model to explain a large portion of its variance.\n",
    "\n"
   ]
  },
  {
   "cell_type": "markdown",
   "id": "8df9de2d-22cd-45b5-b45f-ada33d75e75b",
   "metadata": {},
   "source": [
    "### Conclusion"
   ]
  },
  {
   "cell_type": "markdown",
   "id": "d8c210e8-13a3-4d38-977a-364825abe864",
   "metadata": {},
   "source": [
    "This project analyzed the determinants of mortgage interest rates using a rich dataset from Freddie Mac. Through a series of regression models, including fixed effects and log-transformed specifications, we examined how borrower characteristics and loan attributes influence the pricing of mortgage loans.\n",
    "\n",
    "The findings reveal that key financial indicators such as Debt-to-Income Ratio (DTI), Loan-to-Value Ratio (LTV), and Unpaid Principal Balance (UPB) are all statistically significant predictors of interest rates. As expected, higher DTI and LTV ratios are associated with higher interest rates, reflecting greater risk to lenders. Conversely, higher credit scores are linked to lower interest rates, consistent with risk-based pricing practices. The log-transformed models improved interpretability and slightly enhanced model fit, suggesting some nonlinear relationships between borrower traits and rate setting.\n",
    "\n",
    "Incorporating state fixed effects highlighted regional disparities in interest rate levels that persist even after controlling for borrower-level variables. These differences may reflect variations in state-level policies, lending practices, or economic conditions.\n",
    "\n",
    "Overall, the analysis supports the conclusion that borrower risk characteristics play a central role in mortgage pricing. While the model explains a modest portion of the total variation in interest rates, it provides meaningful insight into how lenders assess risk and adjust rates accordingly. Future extensions could include additional variables (e.g., loan purpose, lender identity, or time fixed effects) or panel data methods to better capture temporal trends in mortgage markets."
   ]
  }
 ],
 "metadata": {
  "kernelspec": {
   "display_name": "Python 3 (ipykernel)",
   "language": "python",
   "name": "python3"
  },
  "language_info": {
   "codemirror_mode": {
    "name": "ipython",
    "version": 3
   },
   "file_extension": ".py",
   "mimetype": "text/x-python",
   "name": "python",
   "nbconvert_exporter": "python",
   "pygments_lexer": "ipython3",
   "version": "3.10.9"
  }
 },
 "nbformat": 4,
 "nbformat_minor": 5
}
